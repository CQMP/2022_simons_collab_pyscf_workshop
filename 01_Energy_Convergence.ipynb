{
  "nbformat": 4,
  "nbformat_minor": 0,
  "metadata": {
    "colab": {
      "name": "01_Energy_Convergence.ipynb",
      "provenance": [],
      "collapsed_sections": [],
      "authorship_tag": "ABX9TyNiYzHBZfaDFc/Af8z++mJn",
      "include_colab_link": true
    },
    "kernelspec": {
      "name": "python3",
      "display_name": "Python 3"
    },
    "language_info": {
      "name": "python"
    }
  },
  "cells": [
    {
      "cell_type": "markdown",
      "metadata": {
        "id": "view-in-github",
        "colab_type": "text"
      },
      "source": [
        "<a href=\"https://colab.research.google.com/github/jamesETsmith/2022_simons_collab_pyscf_workshop/blob/main/01_Energy_Convergence.ipynb\" target=\"_parent\"><img src=\"https://colab.research.google.com/assets/colab-badge.svg\" alt=\"Open In Colab\"/></a>"
      ]
    },
    {
      "cell_type": "code",
      "execution_count": 1,
      "metadata": {
        "colab": {
          "base_uri": "https://localhost:8080/"
        },
        "id": "eBF3rhIbZzXo",
        "outputId": "46da3152-1b11-4db3-d27f-5907320913f9"
      },
      "outputs": [
        {
          "output_type": "stream",
          "name": "stdout",
          "text": [
            "Looking in indexes: https://pypi.org/simple, https://us-python.pkg.dev/colab-wheels/public/simple/\n",
            "Requirement already satisfied: pyscf in /usr/local/lib/python3.7/dist-packages (2.0.1)\n",
            "Requirement already satisfied: py3DMol in /usr/local/lib/python3.7/dist-packages (1.8.0)\n",
            "Requirement already satisfied: plotly==5.8.0 in /usr/local/lib/python3.7/dist-packages (5.8.0)\n",
            "Requirement already satisfied: tenacity>=6.2.0 in /usr/local/lib/python3.7/dist-packages (from plotly==5.8.0) (8.0.1)\n",
            "Requirement already satisfied: h5py>=2.7 in /usr/local/lib/python3.7/dist-packages (from pyscf) (3.1.0)\n",
            "Requirement already satisfied: scipy!=1.5.0,!=1.5.1 in /usr/local/lib/python3.7/dist-packages (from pyscf) (1.4.1)\n",
            "Requirement already satisfied: numpy!=1.16,!=1.17,>=1.13 in /usr/local/lib/python3.7/dist-packages (from pyscf) (1.21.6)\n",
            "Requirement already satisfied: cached-property in /usr/local/lib/python3.7/dist-packages (from h5py>=2.7->pyscf) (1.5.2)\n"
          ]
        }
      ],
      "source": [
        "%pip install pyscf py3DMol plotly==5.8.0"
      ]
    },
    {
      "cell_type": "code",
      "source": [
        "from pyscf import gto, scf, dft, mp, cc\n",
        "import py3Dmol\n",
        "import plotly.express as px"
      ],
      "metadata": {
        "id": "dEuTmjqAa5tt"
      },
      "execution_count": 2,
      "outputs": []
    },
    {
      "cell_type": "code",
      "source": [
        "mol_xyz = \"\"\"O        0.00000    0.11779   0.00000\n",
        "             H        0.75545   -0.47116   0.00000\n",
        "             H       -0.75545   -0.47116   0.00000\"\"\"\n",
        "mol = gto.M(atom=mol_xyz, basis=\"def2svp\", verbose=4)"
      ],
      "metadata": {
        "colab": {
          "base_uri": "https://localhost:8080/"
        },
        "id": "cPjh9IeaaKK_",
        "outputId": "eb160f10-91a5-4fa1-b51e-63247f80a05c"
      },
      "execution_count": 3,
      "outputs": [
        {
          "output_type": "stream",
          "name": "stdout",
          "text": [
            "System: uname_result(system='Linux', node='0839eeb389d5', release='5.4.188+', version='#1 SMP Sun Apr 24 10:03:06 PDT 2022', machine='x86_64', processor='x86_64')  Threads 2\n",
            "Python 3.7.13 (default, Apr 24 2022, 01:04:09) \n",
            "[GCC 7.5.0]\n",
            "numpy 1.21.6  scipy 1.4.1\n",
            "Date: Tue May 31 15:06:15 2022\n",
            "PySCF version 2.0.1\n",
            "PySCF path  /usr/local/lib/python3.7/dist-packages/pyscf\n",
            "\n",
            "[CONFIG] conf_file None\n",
            "[INPUT] verbose = 4\n",
            "[INPUT] num. atoms = 3\n",
            "[INPUT] num. electrons = 10\n",
            "[INPUT] charge = 0\n",
            "[INPUT] spin (= nelec alpha-beta = 2S) = 0\n",
            "[INPUT] symmetry False subgroup None\n",
            "[INPUT] Mole.unit = angstrom\n",
            "[INPUT]  1 O      0.000000000000   0.117790000000   0.000000000000 AA    0.000000000000   0.222590840213   0.000000000000 Bohr\n",
            "[INPUT]  2 H      0.755450000000  -0.471160000000   0.000000000000 AA    1.427593600803  -0.890363360850   0.000000000000 Bohr\n",
            "[INPUT]  3 H     -0.755450000000  -0.471160000000   0.000000000000 AA   -1.427593600803  -0.890363360850   0.000000000000 Bohr\n",
            "\n",
            "nuclear repulsion = 9.18922212537191\n",
            "number of shells = 12\n",
            "number of NR pGTOs = 38\n",
            "number of NR cGTOs = 24\n",
            "basis = def2svp\n",
            "ecp = {}\n",
            "CPU time:         3.43\n"
          ]
        }
      ]
    },
    {
      "cell_type": "code",
      "source": [
        "xyz_view = py3Dmol.view(width=400,height=400)\n",
        "xyz_view.addModel(mol.tostring(format=\"xyz\"),'xyz')\n",
        "xyz_view.setStyle({'stick':{}, \"sphere\":{\"radius\":0.4}})\n",
        "xyz_view.setBackgroundColor('0xeeeeee')\n",
        "xyz_view.show()"
      ],
      "metadata": {
        "colab": {
          "base_uri": "https://localhost:8080/",
          "height": 417
        },
        "id": "G-agIGn8lMib",
        "outputId": "5eb8ff7d-85b4-4f42-972e-0907c2cf0cd7"
      },
      "execution_count": 4,
      "outputs": [
        {
          "output_type": "display_data",
          "data": {
            "application/3dmoljs_load.v0": "<div id=\"3dmolviewer_1654009575345479\"  style=\"position: relative; width: 400px; height: 400px\">\n        <p id=\"3dmolwarning_1654009575345479\" style=\"background-color:#ffcccc;color:black\">You appear to be running in JupyterLab (or JavaScript failed to load for some other reason).  You need to install the 3dmol extension: <br>\n        <tt>jupyter labextension install jupyterlab_3dmol</tt></p>\n        </div>\n<script>\n\nvar loadScriptAsync = function(uri){\n  return new Promise((resolve, reject) => {\n    var tag = document.createElement('script');\n    tag.src = uri;\n    tag.async = true;\n    tag.onload = () => {\n      resolve();\n    };\n  var firstScriptTag = document.getElementsByTagName('script')[0];\n  firstScriptTag.parentNode.insertBefore(tag, firstScriptTag);\n});\n};\n\nif(typeof $3Dmolpromise === 'undefined') {\n$3Dmolpromise = null;\n  $3Dmolpromise = loadScriptAsync('https://3dmol.org/build/3Dmol.js');\n}\n\nvar viewer_1654009575345479 = null;\nvar warn = document.getElementById(\"3dmolwarning_1654009575345479\");\nif(warn) {\n    warn.parentNode.removeChild(warn);\n}\n$3Dmolpromise.then(function() {\nviewer_1654009575345479 = $3Dmol.createViewer($(\"#3dmolviewer_1654009575345479\"),{backgroundColor:\"white\"});\nviewer_1654009575345479.zoomTo();\n\tviewer_1654009575345479.addModel(\"3\\nXYZ from PySCF\\nO           0.00000        0.11779        0.00000\\nH           0.75545       -0.47116        0.00000\\nH          -0.75545       -0.47116        0.00000\",\"xyz\");\n\tviewer_1654009575345479.setStyle({\"stick\": {}, \"sphere\": {\"radius\": 0.4}});\n\tviewer_1654009575345479.setBackgroundColor(\"0xeeeeee\");\nviewer_1654009575345479.render();\n});\n</script>",
            "text/html": [
              "<div id=\"3dmolviewer_1654009575345479\"  style=\"position: relative; width: 400px; height: 400px\">\n",
              "        <p id=\"3dmolwarning_1654009575345479\" style=\"background-color:#ffcccc;color:black\">You appear to be running in JupyterLab (or JavaScript failed to load for some other reason).  You need to install the 3dmol extension: <br>\n",
              "        <tt>jupyter labextension install jupyterlab_3dmol</tt></p>\n",
              "        </div>\n",
              "<script>\n",
              "\n",
              "var loadScriptAsync = function(uri){\n",
              "  return new Promise((resolve, reject) => {\n",
              "    var tag = document.createElement('script');\n",
              "    tag.src = uri;\n",
              "    tag.async = true;\n",
              "    tag.onload = () => {\n",
              "      resolve();\n",
              "    };\n",
              "  var firstScriptTag = document.getElementsByTagName('script')[0];\n",
              "  firstScriptTag.parentNode.insertBefore(tag, firstScriptTag);\n",
              "});\n",
              "};\n",
              "\n",
              "if(typeof $3Dmolpromise === 'undefined') {\n",
              "$3Dmolpromise = null;\n",
              "  $3Dmolpromise = loadScriptAsync('https://3dmol.org/build/3Dmol.js');\n",
              "}\n",
              "\n",
              "var viewer_1654009575345479 = null;\n",
              "var warn = document.getElementById(\"3dmolwarning_1654009575345479\");\n",
              "if(warn) {\n",
              "    warn.parentNode.removeChild(warn);\n",
              "}\n",
              "$3Dmolpromise.then(function() {\n",
              "viewer_1654009575345479 = $3Dmol.createViewer($(\"#3dmolviewer_1654009575345479\"),{backgroundColor:\"white\"});\n",
              "viewer_1654009575345479.zoomTo();\n",
              "\tviewer_1654009575345479.addModel(\"3\\nXYZ from PySCF\\nO           0.00000        0.11779        0.00000\\nH           0.75545       -0.47116        0.00000\\nH          -0.75545       -0.47116        0.00000\",\"xyz\");\n",
              "\tviewer_1654009575345479.setStyle({\"stick\": {}, \"sphere\": {\"radius\": 0.4}});\n",
              "\tviewer_1654009575345479.setBackgroundColor(\"0xeeeeee\");\n",
              "viewer_1654009575345479.render();\n",
              "});\n",
              "</script>"
            ]
          },
          "metadata": {}
        }
      ]
    },
    {
      "cell_type": "code",
      "source": [
        "mymf = scf.RHF(mol).run()\n"
      ],
      "metadata": {
        "colab": {
          "base_uri": "https://localhost:8080/"
        },
        "id": "4RyV_tgJbQBx",
        "outputId": "b59ae8e2-2447-4a2b-b763-b8c261bdad6e"
      },
      "execution_count": 5,
      "outputs": [
        {
          "output_type": "stream",
          "name": "stdout",
          "text": [
            "\n",
            "\n",
            "******** <class 'pyscf.scf.hf.RHF'> ********\n",
            "method = RHF\n",
            "initial guess = minao\n",
            "damping factor = 0\n",
            "level_shift factor = 0\n",
            "DIIS = <class 'pyscf.scf.diis.CDIIS'>\n",
            "diis_start_cycle = 1\n",
            "diis_space = 8\n",
            "SCF conv_tol = 1e-09\n",
            "SCF conv_tol_grad = None\n",
            "SCF max_cycles = 50\n",
            "direct_scf = True\n",
            "direct_scf_tol = 1e-13\n",
            "chkfile to save SCF result = /content/tmp4pndia31\n",
            "max_memory 4000 MB (current use 211 MB)\n",
            "Set gradient conv threshold to 3.16228e-05\n",
            "init E= -75.7797774091097\n",
            "  HOMO = -0.478708376647231  LUMO = 0.099035652418403\n",
            "cycle= 1 E= -75.9225305322193  delta_E= -0.143  |g|= 0.445  |ddm|= 1.33\n",
            "  HOMO = -0.417785209282908  LUMO = 0.17508251786773\n",
            "cycle= 2 E= -75.9520234518776  delta_E= -0.0295  |g|= 0.225  |ddm|= 0.404\n",
            "  HOMO = -0.506002674303011  LUMO = 0.17125782431509\n",
            "cycle= 3 E= -75.9607437950686  delta_E= -0.00872  |g|= 0.0293  |ddm|= 0.149\n",
            "  HOMO = -0.496600495366505  LUMO = 0.175945173483796\n",
            "cycle= 4 E= -75.9609532674161  delta_E= -0.000209  |g|= 0.00613  |ddm|= 0.0197\n",
            "  HOMO = -0.497922078755339  LUMO = 0.176146412748138\n",
            "cycle= 5 E= -75.9609696099863  delta_E= -1.63e-05  |g|= 0.000828  |ddm|= 0.00754\n",
            "  HOMO = -0.498163430119874  LUMO = 0.176056788178486\n",
            "cycle= 6 E= -75.9609699764669  delta_E= -3.66e-07  |g|= 0.000154  |ddm|= 0.00125\n",
            "  HOMO = -0.498198507271382  LUMO = 0.176055581017656\n",
            "cycle= 7 E= -75.9609699899863  delta_E= -1.35e-08  |g|= 1.59e-05  |ddm|= 0.000281\n",
            "  HOMO = -0.498194447976246  LUMO = 0.176054690966378\n",
            "cycle= 8 E= -75.9609699901546  delta_E= -1.68e-10  |g|= 4.28e-06  |ddm|= 3.18e-05\n",
            "  HOMO = -0.49819428964427  LUMO = 0.176054531125166\n",
            "Extra cycle  E= -75.9609699901657  delta_E= -1.11e-11  |g|= 1.98e-06  |ddm|= 6.38e-06\n",
            "converged SCF energy = -75.9609699901657\n"
          ]
        }
      ]
    },
    {
      "cell_type": "code",
      "source": [
        "myrks = dft.RKS(mol, xc=\"wB97x\").run()"
      ],
      "metadata": {
        "colab": {
          "base_uri": "https://localhost:8080/"
        },
        "id": "xNvxFlJalybD",
        "outputId": "aed82942-00f3-49d1-d3f1-47371ff4292e"
      },
      "execution_count": 6,
      "outputs": [
        {
          "output_type": "stream",
          "name": "stdout",
          "text": [
            "\n",
            "\n",
            "******** <class 'pyscf.dft.rks.RKS'> ********\n",
            "method = RKS-RHF\n",
            "initial guess = minao\n",
            "damping factor = 0\n",
            "level_shift factor = 0\n",
            "DIIS = <class 'pyscf.scf.diis.CDIIS'>\n",
            "diis_start_cycle = 1\n",
            "diis_space = 8\n",
            "SCF conv_tol = 1e-09\n",
            "SCF conv_tol_grad = None\n",
            "SCF max_cycles = 50\n",
            "direct_scf = True\n",
            "direct_scf_tol = 1e-13\n",
            "chkfile to save SCF result = /content/tmp22gc8fn9\n",
            "max_memory 4000 MB (current use 219 MB)\n",
            "XC library pyscf.dft.libxc version 5.1.7\n",
            "    S. Lehtola, C. Steigemann, M. J. Oliveira, and M. A. Marques, SoftwareX 7, 1 (2018)\n",
            "XC functionals = wB97x\n",
            "    J.-D. Chai and M. Head-Gordon, J. Chem. Phys. 128, 084106 (2008)\n",
            "radial grids: \n",
            "    Treutler-Ahlrichs [JCP 102, 346 (1995); DOI:10.1063/1.469408] (M4) radial grids\n",
            "    \n",
            "becke partition: Becke, JCP 88, 2547 (1988); DOI:10.1063/1.454033\n",
            "pruning grids: <function nwchem_prune at 0x7fd406911170>\n",
            "grids dens level: 3\n",
            "symmetrized grids: False\n",
            "atomic radii adjust function: <function treutler_atomic_radii_adjust at 0x7fd4069115f0>\n",
            "small_rho_cutoff = 1e-07\n",
            "Set gradient conv threshold to 3.16228e-05\n",
            "tot grids = 34310\n",
            "init E= -76.1992802463868\n",
            "  HOMO = -0.465130664047595  LUMO = 0.0645919537322749\n",
            "cycle= 1 E= -76.2714427927966  delta_E= -0.0722  |g|= 0.596  |ddm|= 1.37\n",
            "  HOMO = -0.271937558702349  LUMO = 0.167238274662743\n",
            "cycle= 2 E= -76.2868412357146  delta_E= -0.0154  |g|= 0.543  |ddm|= 0.672\n",
            "  HOMO = -0.408962317384971  LUMO = 0.146614603457677\n",
            "cycle= 3 E= -76.3375823114872  delta_E= -0.0507  |g|= 0.0251  |ddm|= 0.326\n",
            "  HOMO = -0.401958366726786  LUMO = 0.152572976959673\n",
            "cycle= 4 E= -76.3376952816532  delta_E= -0.000113  |g|= 0.00394  |ddm|= 0.0129\n",
            "  HOMO = -0.40236810869318  LUMO = 0.152972411770841\n",
            "cycle= 5 E= -76.3377001881604  delta_E= -4.91e-06  |g|= 0.000432  |ddm|= 0.00423\n",
            "  HOMO = -0.402451551082216  LUMO = 0.152905257233876\n",
            "cycle= 6 E= -76.3377002301303  delta_E= -4.2e-08  |g|= 6.32e-05  |ddm|= 0.000326\n",
            "  HOMO = -0.402472044683081  LUMO = 0.152894690790628\n",
            "cycle= 7 E= -76.3377002312372  delta_E= -1.11e-09  |g|= 7.13e-06  |ddm|= 7.5e-05\n",
            "  HOMO = -0.402472337589751  LUMO = 0.152894389738045\n",
            "cycle= 8 E= -76.3377002312877  delta_E= -5.06e-11  |g|= 7.72e-07  |ddm|= 2.6e-05\n",
            "  HOMO = -0.402472461765008  LUMO = 0.152894387613963\n",
            "Extra cycle  E= -76.3377002312883  delta_E= -5.68e-13  |g|= 2.84e-07  |ddm|= 1.77e-06\n",
            "converged SCF energy = -76.3377002312883\n"
          ]
        }
      ]
    },
    {
      "cell_type": "code",
      "source": [
        "mymp2 = mp.MP2(mymf).run()"
      ],
      "metadata": {
        "colab": {
          "base_uri": "https://localhost:8080/"
        },
        "id": "lVhXGgePd9_h",
        "outputId": "f4ef225a-d919-4144-8fe5-83f462d14a97"
      },
      "execution_count": 7,
      "outputs": [
        {
          "output_type": "stream",
          "name": "stdout",
          "text": [
            "\n",
            "******** <class 'pyscf.mp.mp2.MP2'> ********\n",
            "nocc = 5, nmo = 24\n",
            "max_memory 4000 MB (current use 264 MB)\n",
            "E(MP2) = -76.1646134597338  E_corr = -0.203643469568171\n"
          ]
        }
      ]
    },
    {
      "cell_type": "code",
      "source": [
        "mycc = cc.CCSD(mymf).run()"
      ],
      "metadata": {
        "colab": {
          "base_uri": "https://localhost:8080/"
        },
        "id": "HvAFoYHelkba",
        "outputId": "45e7bcd5-cb76-43b6-c51f-d7e1405ca85b"
      },
      "execution_count": 8,
      "outputs": [
        {
          "output_type": "stream",
          "name": "stdout",
          "text": [
            "\n",
            "******** <class 'pyscf.cc.ccsd.CCSD'> ********\n",
            "CC2 = 0\n",
            "CCSD nocc = 5, nmo = 24\n",
            "max_cycle = 50\n",
            "direct = 0\n",
            "conv_tol = 1e-07\n",
            "conv_tol_normt = 1e-05\n",
            "diis_space = 6\n",
            "diis_start_cycle = 0\n",
            "diis_start_energy_diff = 1e+09\n",
            "max_memory 4000 MB (current use 264 MB)\n",
            "Init t2, MP2 energy = -76.1646134738225  E_corr(MP2) -0.20364348365685\n",
            "Init E_corr(CCSD) = -0.203643483658393\n",
            "cycle = 1  E_corr(CCSD) = -0.208598554996107  dE = -0.00495507134  norm(t1,t2) = 0.021702\n",
            "cycle = 2  E_corr(CCSD) = -0.211811484967461  dE = -0.00321292997  norm(t1,t2) = 0.007521\n",
            "cycle = 3  E_corr(CCSD) = -0.212859313566739  dE = -0.0010478286  norm(t1,t2) = 0.00285612\n",
            "cycle = 4  E_corr(CCSD) = -0.213009188250799  dE = -0.000149874684  norm(t1,t2) = 0.000557348\n",
            "cycle = 5  E_corr(CCSD) = -0.212993867867437  dE = 1.53203834e-05  norm(t1,t2) = 0.00018018\n",
            "cycle = 6  E_corr(CCSD) = -0.212989712090877  dE = 4.15577656e-06  norm(t1,t2) = 5.09528e-05\n",
            "cycle = 7  E_corr(CCSD) = -0.212991217881786  dE = -1.50579091e-06  norm(t1,t2) = 1.67188e-05\n",
            "cycle = 8  E_corr(CCSD) = -0.212990719254426  dE = 4.98627359e-07  norm(t1,t2) = 3.18594e-06\n",
            "cycle = 9  E_corr(CCSD) = -0.212990671772974  dE = 4.7481452e-08  norm(t1,t2) = 8.78867e-07\n",
            "CCSD converged\n",
            "E(CCSD) = -76.17396066193864  E_corr = -0.2129906717729743\n"
          ]
        }
      ]
    },
    {
      "cell_type": "code",
      "source": [
        "e_ccsd_t = mycc.ccsd_t()"
      ],
      "metadata": {
        "colab": {
          "base_uri": "https://localhost:8080/"
        },
        "id": "p6JxvG9GlqIG",
        "outputId": "41b390da-106e-4421-99c2-f651b9191472"
      },
      "execution_count": 9,
      "outputs": [
        {
          "output_type": "stream",
          "name": "stdout",
          "text": [
            "CCSD(T) correction = -0.00300950996902205\n"
          ]
        }
      ]
    },
    {
      "cell_type": "code",
      "source": [
        "methods = [\"HF\", \"DFT\", \"MP2\", \"CCSD\", \"CCSD(T)\"]\n",
        "energies = [mymf.e_tot, myrks.e_tot, mymp2.e_tot, mycc.e_tot, mycc.e_tot + e_ccsd_t]\n",
        "fig = px.scatter(x=methods, y=energies)\n",
        "fig.show()"
      ],
      "metadata": {
        "colab": {
          "base_uri": "https://localhost:8080/",
          "height": 542
        },
        "id": "OogwVn88n028",
        "outputId": "1cc8e923-a682-493c-eb23-4c470c278e12"
      },
      "execution_count": 11,
      "outputs": [
        {
          "output_type": "display_data",
          "data": {
            "text/html": [
              "<html>\n",
              "<head><meta charset=\"utf-8\" /></head>\n",
              "<body>\n",
              "    <div>            <script src=\"https://cdnjs.cloudflare.com/ajax/libs/mathjax/2.7.5/MathJax.js?config=TeX-AMS-MML_SVG\"></script><script type=\"text/javascript\">if (window.MathJax && window.MathJax.Hub && && window.MathJax.Hub.Config) {window.MathJax.Hub.Config({SVG: {font: \"STIX-Web\"}});}</script>                <script type=\"text/javascript\">window.PlotlyConfig = {MathJaxConfig: 'local'};</script>\n",
              "        <script src=\"https://cdn.plot.ly/plotly-2.12.1.min.js\"></script>                <div id=\"a5a943cd-d512-4a17-8792-df18445bcdc7\" class=\"plotly-graph-div\" style=\"height:525px; width:100%;\"></div>            <script type=\"text/javascript\">                                    window.PLOTLYENV=window.PLOTLYENV || {};                                    if (document.getElementById(\"a5a943cd-d512-4a17-8792-df18445bcdc7\")) {                    Plotly.newPlot(                        \"a5a943cd-d512-4a17-8792-df18445bcdc7\",                        [{\"hovertemplate\":\"x=%{x}<br>y=%{y}<extra></extra>\",\"legendgroup\":\"\",\"marker\":{\"color\":\"#636efa\",\"symbol\":\"circle\"},\"mode\":\"markers\",\"name\":\"\",\"orientation\":\"v\",\"showlegend\":false,\"x\":[\"HF\",\"DFT\",\"MP2\",\"CCSD\",\"CCSD(T)\"],\"xaxis\":\"x\",\"y\":[-75.96096999016567,-76.3377002312883,-76.16461345973384,-76.17396066193864,-76.17697017190766],\"yaxis\":\"y\",\"type\":\"scatter\"}],                        {\"template\":{\"data\":{\"histogram2dcontour\":[{\"type\":\"histogram2dcontour\",\"colorbar\":{\"outlinewidth\":0,\"ticks\":\"\"},\"colorscale\":[[0.0,\"#0d0887\"],[0.1111111111111111,\"#46039f\"],[0.2222222222222222,\"#7201a8\"],[0.3333333333333333,\"#9c179e\"],[0.4444444444444444,\"#bd3786\"],[0.5555555555555556,\"#d8576b\"],[0.6666666666666666,\"#ed7953\"],[0.7777777777777778,\"#fb9f3a\"],[0.8888888888888888,\"#fdca26\"],[1.0,\"#f0f921\"]]}],\"choropleth\":[{\"type\":\"choropleth\",\"colorbar\":{\"outlinewidth\":0,\"ticks\":\"\"}}],\"histogram2d\":[{\"type\":\"histogram2d\",\"colorbar\":{\"outlinewidth\":0,\"ticks\":\"\"},\"colorscale\":[[0.0,\"#0d0887\"],[0.1111111111111111,\"#46039f\"],[0.2222222222222222,\"#7201a8\"],[0.3333333333333333,\"#9c179e\"],[0.4444444444444444,\"#bd3786\"],[0.5555555555555556,\"#d8576b\"],[0.6666666666666666,\"#ed7953\"],[0.7777777777777778,\"#fb9f3a\"],[0.8888888888888888,\"#fdca26\"],[1.0,\"#f0f921\"]]}],\"heatmap\":[{\"type\":\"heatmap\",\"colorbar\":{\"outlinewidth\":0,\"ticks\":\"\"},\"colorscale\":[[0.0,\"#0d0887\"],[0.1111111111111111,\"#46039f\"],[0.2222222222222222,\"#7201a8\"],[0.3333333333333333,\"#9c179e\"],[0.4444444444444444,\"#bd3786\"],[0.5555555555555556,\"#d8576b\"],[0.6666666666666666,\"#ed7953\"],[0.7777777777777778,\"#fb9f3a\"],[0.8888888888888888,\"#fdca26\"],[1.0,\"#f0f921\"]]}],\"heatmapgl\":[{\"type\":\"heatmapgl\",\"colorbar\":{\"outlinewidth\":0,\"ticks\":\"\"},\"colorscale\":[[0.0,\"#0d0887\"],[0.1111111111111111,\"#46039f\"],[0.2222222222222222,\"#7201a8\"],[0.3333333333333333,\"#9c179e\"],[0.4444444444444444,\"#bd3786\"],[0.5555555555555556,\"#d8576b\"],[0.6666666666666666,\"#ed7953\"],[0.7777777777777778,\"#fb9f3a\"],[0.8888888888888888,\"#fdca26\"],[1.0,\"#f0f921\"]]}],\"contourcarpet\":[{\"type\":\"contourcarpet\",\"colorbar\":{\"outlinewidth\":0,\"ticks\":\"\"}}],\"contour\":[{\"type\":\"contour\",\"colorbar\":{\"outlinewidth\":0,\"ticks\":\"\"},\"colorscale\":[[0.0,\"#0d0887\"],[0.1111111111111111,\"#46039f\"],[0.2222222222222222,\"#7201a8\"],[0.3333333333333333,\"#9c179e\"],[0.4444444444444444,\"#bd3786\"],[0.5555555555555556,\"#d8576b\"],[0.6666666666666666,\"#ed7953\"],[0.7777777777777778,\"#fb9f3a\"],[0.8888888888888888,\"#fdca26\"],[1.0,\"#f0f921\"]]}],\"surface\":[{\"type\":\"surface\",\"colorbar\":{\"outlinewidth\":0,\"ticks\":\"\"},\"colorscale\":[[0.0,\"#0d0887\"],[0.1111111111111111,\"#46039f\"],[0.2222222222222222,\"#7201a8\"],[0.3333333333333333,\"#9c179e\"],[0.4444444444444444,\"#bd3786\"],[0.5555555555555556,\"#d8576b\"],[0.6666666666666666,\"#ed7953\"],[0.7777777777777778,\"#fb9f3a\"],[0.8888888888888888,\"#fdca26\"],[1.0,\"#f0f921\"]]}],\"mesh3d\":[{\"type\":\"mesh3d\",\"colorbar\":{\"outlinewidth\":0,\"ticks\":\"\"}}],\"scatter\":[{\"fillpattern\":{\"fillmode\":\"overlay\",\"size\":10,\"solidity\":0.2},\"type\":\"scatter\"}],\"parcoords\":[{\"type\":\"parcoords\",\"line\":{\"colorbar\":{\"outlinewidth\":0,\"ticks\":\"\"}}}],\"scatterpolargl\":[{\"type\":\"scatterpolargl\",\"marker\":{\"colorbar\":{\"outlinewidth\":0,\"ticks\":\"\"}}}],\"bar\":[{\"error_x\":{\"color\":\"#2a3f5f\"},\"error_y\":{\"color\":\"#2a3f5f\"},\"marker\":{\"line\":{\"color\":\"#E5ECF6\",\"width\":0.5},\"pattern\":{\"fillmode\":\"overlay\",\"size\":10,\"solidity\":0.2}},\"type\":\"bar\"}],\"scattergeo\":[{\"type\":\"scattergeo\",\"marker\":{\"colorbar\":{\"outlinewidth\":0,\"ticks\":\"\"}}}],\"scatterpolar\":[{\"type\":\"scatterpolar\",\"marker\":{\"colorbar\":{\"outlinewidth\":0,\"ticks\":\"\"}}}],\"histogram\":[{\"marker\":{\"pattern\":{\"fillmode\":\"overlay\",\"size\":10,\"solidity\":0.2}},\"type\":\"histogram\"}],\"scattergl\":[{\"type\":\"scattergl\",\"marker\":{\"colorbar\":{\"outlinewidth\":0,\"ticks\":\"\"}}}],\"scatter3d\":[{\"type\":\"scatter3d\",\"line\":{\"colorbar\":{\"outlinewidth\":0,\"ticks\":\"\"}},\"marker\":{\"colorbar\":{\"outlinewidth\":0,\"ticks\":\"\"}}}],\"scattermapbox\":[{\"type\":\"scattermapbox\",\"marker\":{\"colorbar\":{\"outlinewidth\":0,\"ticks\":\"\"}}}],\"scatterternary\":[{\"type\":\"scatterternary\",\"marker\":{\"colorbar\":{\"outlinewidth\":0,\"ticks\":\"\"}}}],\"scattercarpet\":[{\"type\":\"scattercarpet\",\"marker\":{\"colorbar\":{\"outlinewidth\":0,\"ticks\":\"\"}}}],\"carpet\":[{\"aaxis\":{\"endlinecolor\":\"#2a3f5f\",\"gridcolor\":\"white\",\"linecolor\":\"white\",\"minorgridcolor\":\"white\",\"startlinecolor\":\"#2a3f5f\"},\"baxis\":{\"endlinecolor\":\"#2a3f5f\",\"gridcolor\":\"white\",\"linecolor\":\"white\",\"minorgridcolor\":\"white\",\"startlinecolor\":\"#2a3f5f\"},\"type\":\"carpet\"}],\"table\":[{\"cells\":{\"fill\":{\"color\":\"#EBF0F8\"},\"line\":{\"color\":\"white\"}},\"header\":{\"fill\":{\"color\":\"#C8D4E3\"},\"line\":{\"color\":\"white\"}},\"type\":\"table\"}],\"barpolar\":[{\"marker\":{\"line\":{\"color\":\"#E5ECF6\",\"width\":0.5},\"pattern\":{\"fillmode\":\"overlay\",\"size\":10,\"solidity\":0.2}},\"type\":\"barpolar\"}],\"pie\":[{\"automargin\":true,\"type\":\"pie\"}]},\"layout\":{\"autotypenumbers\":\"strict\",\"colorway\":[\"#636efa\",\"#EF553B\",\"#00cc96\",\"#ab63fa\",\"#FFA15A\",\"#19d3f3\",\"#FF6692\",\"#B6E880\",\"#FF97FF\",\"#FECB52\"],\"font\":{\"color\":\"#2a3f5f\"},\"hovermode\":\"closest\",\"hoverlabel\":{\"align\":\"left\"},\"paper_bgcolor\":\"white\",\"plot_bgcolor\":\"#E5ECF6\",\"polar\":{\"bgcolor\":\"#E5ECF6\",\"angularaxis\":{\"gridcolor\":\"white\",\"linecolor\":\"white\",\"ticks\":\"\"},\"radialaxis\":{\"gridcolor\":\"white\",\"linecolor\":\"white\",\"ticks\":\"\"}},\"ternary\":{\"bgcolor\":\"#E5ECF6\",\"aaxis\":{\"gridcolor\":\"white\",\"linecolor\":\"white\",\"ticks\":\"\"},\"baxis\":{\"gridcolor\":\"white\",\"linecolor\":\"white\",\"ticks\":\"\"},\"caxis\":{\"gridcolor\":\"white\",\"linecolor\":\"white\",\"ticks\":\"\"}},\"coloraxis\":{\"colorbar\":{\"outlinewidth\":0,\"ticks\":\"\"}},\"colorscale\":{\"sequential\":[[0.0,\"#0d0887\"],[0.1111111111111111,\"#46039f\"],[0.2222222222222222,\"#7201a8\"],[0.3333333333333333,\"#9c179e\"],[0.4444444444444444,\"#bd3786\"],[0.5555555555555556,\"#d8576b\"],[0.6666666666666666,\"#ed7953\"],[0.7777777777777778,\"#fb9f3a\"],[0.8888888888888888,\"#fdca26\"],[1.0,\"#f0f921\"]],\"sequentialminus\":[[0.0,\"#0d0887\"],[0.1111111111111111,\"#46039f\"],[0.2222222222222222,\"#7201a8\"],[0.3333333333333333,\"#9c179e\"],[0.4444444444444444,\"#bd3786\"],[0.5555555555555556,\"#d8576b\"],[0.6666666666666666,\"#ed7953\"],[0.7777777777777778,\"#fb9f3a\"],[0.8888888888888888,\"#fdca26\"],[1.0,\"#f0f921\"]],\"diverging\":[[0,\"#8e0152\"],[0.1,\"#c51b7d\"],[0.2,\"#de77ae\"],[0.3,\"#f1b6da\"],[0.4,\"#fde0ef\"],[0.5,\"#f7f7f7\"],[0.6,\"#e6f5d0\"],[0.7,\"#b8e186\"],[0.8,\"#7fbc41\"],[0.9,\"#4d9221\"],[1,\"#276419\"]]},\"xaxis\":{\"gridcolor\":\"white\",\"linecolor\":\"white\",\"ticks\":\"\",\"title\":{\"standoff\":15},\"zerolinecolor\":\"white\",\"automargin\":true,\"zerolinewidth\":2},\"yaxis\":{\"gridcolor\":\"white\",\"linecolor\":\"white\",\"ticks\":\"\",\"title\":{\"standoff\":15},\"zerolinecolor\":\"white\",\"automargin\":true,\"zerolinewidth\":2},\"scene\":{\"xaxis\":{\"backgroundcolor\":\"#E5ECF6\",\"gridcolor\":\"white\",\"linecolor\":\"white\",\"showbackground\":true,\"ticks\":\"\",\"zerolinecolor\":\"white\",\"gridwidth\":2},\"yaxis\":{\"backgroundcolor\":\"#E5ECF6\",\"gridcolor\":\"white\",\"linecolor\":\"white\",\"showbackground\":true,\"ticks\":\"\",\"zerolinecolor\":\"white\",\"gridwidth\":2},\"zaxis\":{\"backgroundcolor\":\"#E5ECF6\",\"gridcolor\":\"white\",\"linecolor\":\"white\",\"showbackground\":true,\"ticks\":\"\",\"zerolinecolor\":\"white\",\"gridwidth\":2}},\"shapedefaults\":{\"line\":{\"color\":\"#2a3f5f\"}},\"annotationdefaults\":{\"arrowcolor\":\"#2a3f5f\",\"arrowhead\":0,\"arrowwidth\":1},\"geo\":{\"bgcolor\":\"white\",\"landcolor\":\"#E5ECF6\",\"subunitcolor\":\"white\",\"showland\":true,\"showlakes\":true,\"lakecolor\":\"white\"},\"title\":{\"x\":0.05},\"mapbox\":{\"style\":\"light\"}}},\"xaxis\":{\"anchor\":\"y\",\"domain\":[0.0,1.0],\"title\":{\"text\":\"x\"}},\"yaxis\":{\"anchor\":\"x\",\"domain\":[0.0,1.0],\"title\":{\"text\":\"y\"}},\"legend\":{\"tracegroupgap\":0},\"margin\":{\"t\":60}},                        {\"responsive\": true}                    ).then(function(){\n",
              "                            \n",
              "var gd = document.getElementById('a5a943cd-d512-4a17-8792-df18445bcdc7');\n",
              "var x = new MutationObserver(function (mutations, observer) {{\n",
              "        var display = window.getComputedStyle(gd).display;\n",
              "        if (!display || display === 'none') {{\n",
              "            console.log([gd, 'removed!']);\n",
              "            Plotly.purge(gd);\n",
              "            observer.disconnect();\n",
              "        }}\n",
              "}});\n",
              "\n",
              "// Listen for the removal of the full notebook cells\n",
              "var notebookContainer = gd.closest('#notebook-container');\n",
              "if (notebookContainer) {{\n",
              "    x.observe(notebookContainer, {childList: true});\n",
              "}}\n",
              "\n",
              "// Listen for the clearing of the current output cell\n",
              "var outputEl = gd.closest('.output');\n",
              "if (outputEl) {{\n",
              "    x.observe(outputEl, {childList: true});\n",
              "}}\n",
              "\n",
              "                        })                };                            </script>        </div>\n",
              "</body>\n",
              "</html>"
            ]
          },
          "metadata": {}
        }
      ]
    },
    {
      "cell_type": "code",
      "source": [
        ""
      ],
      "metadata": {
        "id": "5ZE4PasEn5Q4"
      },
      "execution_count": 10,
      "outputs": []
    }
  ]
}