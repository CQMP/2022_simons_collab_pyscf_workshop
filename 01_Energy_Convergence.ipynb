{
  "nbformat": 4,
  "nbformat_minor": 0,
  "metadata": {
    "colab": {
      "name": "01_Energy_Convergence.ipynb",
      "provenance": [],
      "authorship_tag": "ABX9TyMhMvFh5xeQAAJvZHPpgBSt",
      "include_colab_link": true
    },
    "kernelspec": {
      "name": "python3",
      "display_name": "Python 3"
    },
    "language_info": {
      "name": "python"
    }
  },
  "cells": [
    {
      "cell_type": "markdown",
      "metadata": {
        "id": "view-in-github",
        "colab_type": "text"
      },
      "source": [
        "<a href=\"https://colab.research.google.com/github/jamesETsmith/2022_simons_collab_pyscf_workshop/blob/main/01_Energy_Convergence.ipynb\" target=\"_parent\"><img src=\"https://colab.research.google.com/assets/colab-badge.svg\" alt=\"Open In Colab\"/></a>"
      ]
    },
    {
      "cell_type": "code",
      "execution_count": 12,
      "metadata": {
        "colab": {
          "base_uri": "https://localhost:8080/"
        },
        "id": "eBF3rhIbZzXo",
        "outputId": "12458388-d384-45cd-a622-4f4ee876c71f"
      },
      "outputs": [
        {
          "output_type": "stream",
          "name": "stdout",
          "text": [
            "Looking in indexes: https://pypi.org/simple, https://us-python.pkg.dev/colab-wheels/public/simple/\n",
            "Requirement already satisfied: pyscf in /usr/local/lib/python3.7/dist-packages (2.0.1)\n",
            "Requirement already satisfied: py3DMol in /usr/local/lib/python3.7/dist-packages (1.8.0)\n",
            "Requirement already satisfied: h5py>=2.7 in /usr/local/lib/python3.7/dist-packages (from pyscf) (3.1.0)\n",
            "Requirement already satisfied: numpy!=1.16,!=1.17,>=1.13 in /usr/local/lib/python3.7/dist-packages (from pyscf) (1.21.6)\n",
            "Requirement already satisfied: scipy!=1.5.0,!=1.5.1 in /usr/local/lib/python3.7/dist-packages (from pyscf) (1.4.1)\n",
            "Requirement already satisfied: cached-property in /usr/local/lib/python3.7/dist-packages (from h5py>=2.7->pyscf) (1.5.2)\n"
          ]
        }
      ],
      "source": [
        "%pip install pyscf py3DMol"
      ]
    },
    {
      "cell_type": "code",
      "source": [
        "from pyscf import gto, scf, mp, cc\n",
        "import py3Dmol"
      ],
      "metadata": {
        "id": "dEuTmjqAa5tt"
      },
      "execution_count": 2,
      "outputs": []
    },
    {
      "cell_type": "code",
      "source": [
        "mol_xyz = \"\"\"3\n",
        "\n",
        "O        0.00000    0.11779   0.00000\n",
        "H        0.75545   -0.47116   0.00000\n",
        "H       -0.75545   -0.47116   0.00000\n",
        "\"\"\"\n",
        "xyz_view = py3Dmol.view(width=400,height=400)\n",
        "xyz_view.addModel(mol_xyz,'xyz')\n",
        "xyz_view.setStyle({'stick':{}, \"sphere\":{\"radius\":0.4}})\n",
        "xyz_view.show()"
      ],
      "metadata": {
        "colab": {
          "base_uri": "https://localhost:8080/",
          "height": 417
        },
        "id": "cPjh9IeaaKK_",
        "outputId": "2e57ba5c-7bc2-45df-cfd7-a09715e41bdf"
      },
      "execution_count": 9,
      "outputs": [
        {
          "output_type": "display_data",
          "data": {
            "application/3dmoljs_load.v0": "<div id=\"3dmolviewer_16540060193259642\"  style=\"position: relative; width: 400px; height: 400px\">\n        <p id=\"3dmolwarning_16540060193259642\" style=\"background-color:#ffcccc;color:black\">You appear to be running in JupyterLab (or JavaScript failed to load for some other reason).  You need to install the 3dmol extension: <br>\n        <tt>jupyter labextension install jupyterlab_3dmol</tt></p>\n        </div>\n<script>\n\nvar loadScriptAsync = function(uri){\n  return new Promise((resolve, reject) => {\n    var tag = document.createElement('script');\n    tag.src = uri;\n    tag.async = true;\n    tag.onload = () => {\n      resolve();\n    };\n  var firstScriptTag = document.getElementsByTagName('script')[0];\n  firstScriptTag.parentNode.insertBefore(tag, firstScriptTag);\n});\n};\n\nif(typeof $3Dmolpromise === 'undefined') {\n$3Dmolpromise = null;\n  $3Dmolpromise = loadScriptAsync('https://3dmol.org/build/3Dmol.js');\n}\n\nvar viewer_16540060193259642 = null;\nvar warn = document.getElementById(\"3dmolwarning_16540060193259642\");\nif(warn) {\n    warn.parentNode.removeChild(warn);\n}\n$3Dmolpromise.then(function() {\nviewer_16540060193259642 = $3Dmol.createViewer($(\"#3dmolviewer_16540060193259642\"),{backgroundColor:\"white\"});\nviewer_16540060193259642.zoomTo();\n\tviewer_16540060193259642.addModel(\"3\\n\\nO        0.00000    0.11779   0.00000\\nH        0.75545   -0.47116   0.00000\\nH       -0.75545   -0.47116   0.00000\\n\",\"xyz\");\n\tviewer_16540060193259642.setStyle({\"stick\": {}, \"sphere\": {\"radius\": 0.4}});\nviewer_16540060193259642.render();\n});\n</script>",
            "text/html": [
              "<div id=\"3dmolviewer_16540060193259642\"  style=\"position: relative; width: 400px; height: 400px\">\n",
              "        <p id=\"3dmolwarning_16540060193259642\" style=\"background-color:#ffcccc;color:black\">You appear to be running in JupyterLab (or JavaScript failed to load for some other reason).  You need to install the 3dmol extension: <br>\n",
              "        <tt>jupyter labextension install jupyterlab_3dmol</tt></p>\n",
              "        </div>\n",
              "<script>\n",
              "\n",
              "var loadScriptAsync = function(uri){\n",
              "  return new Promise((resolve, reject) => {\n",
              "    var tag = document.createElement('script');\n",
              "    tag.src = uri;\n",
              "    tag.async = true;\n",
              "    tag.onload = () => {\n",
              "      resolve();\n",
              "    };\n",
              "  var firstScriptTag = document.getElementsByTagName('script')[0];\n",
              "  firstScriptTag.parentNode.insertBefore(tag, firstScriptTag);\n",
              "});\n",
              "};\n",
              "\n",
              "if(typeof $3Dmolpromise === 'undefined') {\n",
              "$3Dmolpromise = null;\n",
              "  $3Dmolpromise = loadScriptAsync('https://3dmol.org/build/3Dmol.js');\n",
              "}\n",
              "\n",
              "var viewer_16540060193259642 = null;\n",
              "var warn = document.getElementById(\"3dmolwarning_16540060193259642\");\n",
              "if(warn) {\n",
              "    warn.parentNode.removeChild(warn);\n",
              "}\n",
              "$3Dmolpromise.then(function() {\n",
              "viewer_16540060193259642 = $3Dmol.createViewer($(\"#3dmolviewer_16540060193259642\"),{backgroundColor:\"white\"});\n",
              "viewer_16540060193259642.zoomTo();\n",
              "\tviewer_16540060193259642.addModel(\"3\\n\\nO        0.00000    0.11779   0.00000\\nH        0.75545   -0.47116   0.00000\\nH       -0.75545   -0.47116   0.00000\\n\",\"xyz\");\n",
              "\tviewer_16540060193259642.setStyle({\"stick\": {}, \"sphere\": {\"radius\": 0.4}});\n",
              "viewer_16540060193259642.render();\n",
              "});\n",
              "</script>"
            ]
          },
          "metadata": {}
        }
      ]
    },
    {
      "cell_type": "code",
      "source": [
        ""
      ],
      "metadata": {
        "id": "4RyV_tgJbQBx"
      },
      "execution_count": null,
      "outputs": []
    }
  ]
}