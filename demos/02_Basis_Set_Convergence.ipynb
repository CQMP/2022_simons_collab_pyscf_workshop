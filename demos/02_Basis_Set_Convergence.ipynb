{
  "nbformat": 4,
  "nbformat_minor": 0,
  "metadata": {
    "colab": {
      "name": "02_Basis_Set_Convergence.ipynb",
      "provenance": [],
      "authorship_tag": "ABX9TyNTiOK8U5oVDQcCEdHmibvG",
      "include_colab_link": true
    },
    "kernelspec": {
      "name": "python3",
      "display_name": "Python 3"
    },
    "language_info": {
      "name": "python"
    }
  },
  "cells": [
    {
      "cell_type": "markdown",
      "metadata": {
        "id": "view-in-github",
        "colab_type": "text"
      },
      "source": [
        "<a href=\"https://colab.research.google.com/github/jamesETsmith/2022_simons_collab_pyscf_workshop/blob/main/demos/02_Basis_Set_Convergence.ipynb\" target=\"_parent\"><img src=\"https://colab.research.google.com/assets/colab-badge.svg\" alt=\"Open In Colab\"/></a>"
      ]
    },
    {
      "cell_type": "markdown",
      "source": [
        "# Setting up the Jupyter notebook\n",
        "\n",
        "* We need to install a few things before we get started\n",
        "  * [PySCF](https://pyscf.org/) (for the quantum chemsitry)\n",
        "  * [py3DMol](https://3dmol.csb.pitt.edu/) for visualizing the molecule\n",
        "  * [plotly](https://plotly.com/python/) and kaleido for plotting"
      ],
      "metadata": {
        "id": "_nf8yNzc6-fz"
      }
    },
    {
      "cell_type": "code",
      "execution_count": 3,
      "metadata": {
        "id": "-A8QFnBP6jaJ"
      },
      "outputs": [],
      "source": [
        "%pip install -q pyscf py3DMol plotly kaleido"
      ]
    },
    {
      "cell_type": "code",
      "source": [
        ""
      ],
      "metadata": {
        "id": "mk3qoIav7FJ7"
      },
      "execution_count": null,
      "outputs": []
    }
  ]
}