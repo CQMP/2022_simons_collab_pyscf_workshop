{
  "nbformat": 4,
  "nbformat_minor": 0,
  "metadata": {
    "colab": {
      "name": "05_Excited_States.ipynb",
      "provenance": [],
      "authorship_tag": "ABX9TyNTiOK8U5oVDQcCEdHmibvG",
      "include_colab_link": true
    },
    "kernelspec": {
      "name": "python3",
      "display_name": "Python 3"
    },
    "language_info": {
      "name": "python"
    }
  },
  "cells": [
    {
      "cell_type": "markdown",
      "metadata": {
        "id": "view-in-github",
        "colab_type": "text"
      },
      "source": [
        "<a href=\"https://colab.research.google.com/github/jamesETsmith/2022_simons_collab_pyscf_workshop/blob/main/demos/05_Excited_States.ipynb\" target=\"_parent\"><img src=\"https://colab.research.google.com/assets/colab-badge.svg\" alt=\"Open In Colab\"/></a>"
      ]
    },
    {
      "cell_type": "markdown",
      "source": [
        "# Setting up the Jupyter notebook\n",
        "\n",
        "* We need to install a few things before we get started\n",
        "  * [PySCF](https://pyscf.org/) (for the quantum chemsitry)\n",
        "  * [py3DMol](https://3dmol.csb.pitt.edu/) for visualizing the molecule\n",
        "  * [plotly](https://plotly.com/python/) and kaleido for plotting"
      ],
      "metadata": {
        "id": "optvds8q86I9"
      }
    },
    {
      "cell_type": "code",
      "execution_count": 1,
      "metadata": {
        "colab": {
          "base_uri": "https://localhost:8080/"
        },
        "id": "fxisLqKw83Zk",
        "outputId": "65a67e44-c50b-4207-e4ad-514c25a8220e"
      },
      "outputs": [
        {
          "output_type": "stream",
          "name": "stdout",
          "text": [
            "\u001b[K     |████████████████████████████████| 37.5 MB 1.8 MB/s \n",
            "\u001b[K     |████████████████████████████████| 79.9 MB 115 kB/s \n",
            "\u001b[?25h"
          ]
        }
      ],
      "source": [
        "%pip install -q pyscf py3DMol plotly kaleido"
      ]
    },
    {
      "cell_type": "code",
      "source": [
        ""
      ],
      "metadata": {
        "id": "YykHows4895n"
      },
      "execution_count": null,
      "outputs": []
    }
  ]
}