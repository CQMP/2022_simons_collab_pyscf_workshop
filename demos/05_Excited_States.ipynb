{
 "cells": [
  {
   "cell_type": "markdown",
   "metadata": {},
   "source": [
    "<a href=\"https://colab.research.google.com/github/jamesETsmith/2022_simons_collab_pyscf_workshop/blob/main/demos/05_Excited_States.ipynb\" target=\"_parent\"><img src=\"https://colab.research.google.com/assets/colab-badge.svg\" alt=\"Open In Colab\"/></a>"
   ]
  },
  {
   "cell_type": "markdown",
   "metadata": {},
   "source": [
    "# Setting up the Jupyter notebook\n",
    "\n",
    "* We need to install a few things before we get started\n",
    "  * [PySCF](https://pyscf.org/) (for the quantum chemsitry)\n",
    "  * [py3DMol](https://3dmol.csb.pitt.edu/) for visualizing the molecule\n",
    "  * [plotly](https://plotly.com/python/) and kaleido for plotting"
   ]
  },
  {
   "cell_type": "code",
   "execution_count": null,
   "metadata": {},
   "outputs": [],
   "source": [
    "%pip install -q pyscf py3DMol plotly kaleido pandas"
   ]
  },
  {
   "cell_type": "markdown",
   "metadata": {},
   "source": [
    "# Chemical System Setup\n",
    "\n",
    "In this example, we're going to study the electronic excitations of 1,2-oxazole with [time-dependent density functional theory (TD-DFT)](https://en.wikipedia.org/wiki/Time-dependent_density_functional_theory#:~:text=Time%2Ddependent%20density%2Dfunctional%20theory,as%20electric%20or%20magnetic%20fields.).\n",
    "We point out that just like the other examples, we cut corners (e.g. using a small basis set) to make these calculations run quicker on Google Colab.\n",
    "For research "
   ]
  },
  {
   "cell_type": "code",
   "execution_count": null,
   "metadata": {},
   "outputs": [],
   "source": [
    "from pyscf import gto, scf, dft, tddft\n",
    "import py3Dmol"
   ]
  },
  {
   "cell_type": "code",
   "execution_count": null,
   "metadata": {},
   "outputs": [],
   "source": [
    "mol = gto.M(atom=\"\"\"  C      1.0701      0.4341     -0.0336\n",
    "  C      0.8115     -0.9049     -0.1725\n",
    "  C     -0.6249     -1.0279     -0.0726\n",
    "  H      1.9842      1.0231     -0.0364\n",
    "  H      1.5156     -1.7176     -0.3255\n",
    "  H     -1.2289     -1.9326     -0.1322\n",
    "  O     -0.0873      1.1351      0.1422\n",
    "  N     -1.1414      0.1776      0.1122\"\"\",\n",
    "  # basis = \"631g\", \n",
    "  verbose=3)\n",
    "\n",
    "xyz_view = py3Dmol.view(width=400,height=400)\n",
    "xyz_view.addModel(mol.tostring(format=\"xyz\"),'xyz')\n",
    "xyz_view.setStyle({'stick':{}, \"sphere\":{\"radius\":0.4}})\n",
    "xyz_view.setBackgroundColor('0xeeeeee')\n",
    "xyz_view.show()"
   ]
  },
  {
   "cell_type": "markdown",
   "metadata": {},
   "source": [
    "# Helper Functions\n",
    "\n",
    "Here we create helper functions to run DFT, TD-DFT, and perform the spectral analysis. Note that a gaussian distribution is a rough way to approximate the line shape for each excitation."
   ]
  },
  {
   "cell_type": "code",
   "execution_count": null,
   "metadata": {},
   "outputs": [],
   "source": [
    "import numpy as np\n",
    "from scipy.constants import physical_constants\n",
    "\n",
    "ha_2_ev = 1/physical_constants[\"electron volt-hartree relationship\"][0]\n",
    "\n",
    "def gaussian(x, mu, sig):\n",
    "    return np.exp(-np.power(x - mu, 2.) / (2 * np.power(sig, 2.)))\n",
    "\n",
    "def run_spectral_analysis(mol, xc=\"b3lyp\"):\n",
    "  n_states=15\n",
    "  spectral_width=0.1\n",
    "\n",
    "  # Ground State DFT\n",
    "  mf = dft.RKS(mol, xc=xc).run()\n",
    "\n",
    "  # Excited State DFT\n",
    "  mytd = tddft.TDDFT(mf)\n",
    "  mytd.nstates = n_states\n",
    "  mytd.kernel();\n",
    "  mytd.analyze()\n",
    "  osc_strengths = mytd.oscillator_strength()[:n_states-5]\n",
    "\n",
    "  # Convolve lineshapes to make spectra\n",
    "  energies_ev = mytd.e[:n_states-5]*ha_2_ev\n",
    "  x_range = np.linspace(0.0, energies_ev.max()*1.1, num=1000)\n",
    "  intensity = np.zeros(x_range.size)\n",
    "\n",
    "  for e, f in zip(energies_ev, osc_strengths):\n",
    "    intensity += gaussian(x_range, e, spectral_width) * f\n",
    "\n",
    "  # Rough Normalization\n",
    "  dx = (x_range[-1] - x_range[0])/x_range.size\n",
    "  area = (intensity*dx).sum()\n",
    "  intensity /= area\n",
    "\n",
    "\n",
    "  return x_range, intensity"
   ]
  },
  {
   "cell_type": "code",
   "execution_count": null,
   "metadata": {},
   "outputs": [],
   "source": [
    "import pandas as pd\n",
    "\n",
    "data = {\"Excitation Energy (eV)\":[], \"Intensity\":[], \"Exchange-Correlation Functional\":[]}\n",
    "\n",
    "xcs = [\"lda\", \"pbe\"] # Should run in < 2 mins\n",
    "xcs = [\"lda\", \"pbe\", \"camb3lyp\"] # May take a couple of minutes!\n",
    "\n",
    "for xc in xcs:\n",
    "  x_range, intensity = run_spectral_analysis(mol, xc=xc)\n",
    "\n",
    "  data[\"Excitation Energy (eV)\"] += x_range.tolist()\n",
    "  data[\"Intensity\"] += intensity.tolist()\n",
    "  data[\"Exchange-Correlation Functional\"] += [xc]*x_range.size\n",
    "\n",
    "df = pd.DataFrame(data)\n"
   ]
  },
  {
   "cell_type": "markdown",
   "metadata": {},
   "source": [
    "# Plot the UV/Vis Spectra\n",
    "\n",
    "Since we've stored our data in a dataframe, we can plot it quickly using `plotly.express`."
   ]
  },
  {
   "cell_type": "code",
   "execution_count": null,
   "metadata": {},
   "outputs": [],
   "source": [
    "import plotly.express as px\n",
    "fig = px.line(df, x=\"Excitation Energy (eV)\", y=\"Intensity\", markers=True, color=\"Exchange-Correlation Functional\")\n",
    "fig.show()"
   ]
  },
  {
   "cell_type": "code",
   "execution_count": null,
   "metadata": {},
   "outputs": [],
   "source": []
  }
 ],
 "metadata": {
  "colab": {
   "authorship_tag": "ABX9TyNKwdET8/2pGJAmHijce8ws",
   "include_colab_link": true,
   "name": "05_Excited_States.ipynb",
   "provenance": []
  },
  "kernelspec": {
   "display_name": "Python 3",
   "name": "python3"
  },
  "language_info": {
   "name": "python"
  }
 },
 "nbformat": 4,
 "nbformat_minor": 0
}
