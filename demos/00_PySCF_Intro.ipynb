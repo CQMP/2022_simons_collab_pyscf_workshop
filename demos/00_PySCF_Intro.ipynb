{
 "cells": [
  {
   "cell_type": "markdown",
   "metadata": {},
   "source": [
    "<a href=\"https://colab.research.google.com/github/jamesETsmith/2022_simons_collab_pyscf_workshop/blob/main/demos/00_PySCF_Intro.ipynb\" target=\"_parent\"><img src=\"https://colab.research.google.com/assets/colab-badge.svg\" alt=\"Open In Colab\"/></a>"
   ]
  },
  {
   "cell_type": "markdown",
   "metadata": {},
   "source": [
    "# Setting up the Jupyter notebook\n",
    "\n",
    "* We need to install a few things before we get started\n",
    "  * [PySCF](https://pyscf.org/) (for the quantum chemistry)\n",
    "  * [py3DMol](https://3dmol.csb.pitt.edu/) for visualizing the molecule\n",
    "  * [plotly](https://plotly.com/python/) and kaleido for plotting"
   ]
  },
  {
   "cell_type": "code",
   "execution_count": null,
   "metadata": {},
   "outputs": [],
   "source": [
    "%pip install -q pyscf py3DMol plotly kaleido"
   ]
  },
  {
   "cell_type": "markdown",
   "metadata": {},
   "source": [
    "# Loading the PySCF Package"
   ]
  },
  {
   "cell_type": "code",
   "execution_count": null,
   "metadata": {},
   "outputs": [],
   "source": [
    "from pyscf import gto   # Used to define a molecule\n",
    "from pyscf import scf   # Used to perform HF calculations\n",
    "from pyscf import mp    # Used to perform Møller–Plesset PT calculations\n",
    "from pyscf import cc    # Used to perfrom Coupled Cluster calculations\n",
    "from pyscf import mcscf # Used to perform multireference calculations"
   ]
  },
  {
   "cell_type": "markdown",
   "metadata": {},
   "source": [
    "# Setting Up Our System"
   ]
  },
  {
   "cell_type": "code",
   "execution_count": null,
   "metadata": {},
   "outputs": [],
   "source": [
    "mol_xyz = \"\"\"H      1.2194     -0.1652      2.1600\n",
    "  C      0.6825     -0.0924      1.2087\n",
    "  C     -0.7075     -0.0352      1.1973\n",
    "  H     -1.2644     -0.0630      2.1393\n",
    "  C     -1.3898      0.0572     -0.0114\n",
    "  H     -2.4836      0.1021     -0.0204\n",
    "  C     -0.6824      0.0925     -1.2088\n",
    "  H     -1.2194      0.1652     -2.1599\n",
    "  C      0.7075      0.0352     -1.1973\n",
    "  H      1.2641      0.0628     -2.1395\n",
    "  C      1.3899     -0.0572      0.0114\n",
    "  H      2.4836     -0.1022      0.0205\"\"\"\n",
    "\n",
    "mol = gto.M(atom=mol_xyz, basis=\"sto3g\", verbose=3)"
   ]
  },
  {
   "cell_type": "markdown",
   "metadata": {},
   "source": [
    "# Visualizing Our System\n",
    "\n",
    "Working in Python (and Jupyter notebooks) has a lot of advantages. One of those is being able to visualize our system with other Python packages such as `py3Dmol`."
   ]
  },
  {
   "cell_type": "code",
   "execution_count": null,
   "metadata": {},
   "outputs": [],
   "source": [
    "import py3Dmol\n",
    "\n",
    "xyz_view = py3Dmol.view(width=400,height=400)\n",
    "xyz_view.addModel(mol.tostring(format=\"xyz\"),'xyz')\n",
    "xyz_view.setStyle({'stick':{}, \"sphere\":{\"radius\":0.4}})\n",
    "xyz_view.setBackgroundColor('0xeeeeee')\n",
    "xyz_view.show()\n",
    "\n",
    "#\n",
    "# Use your mouse to interact with the molecule!\n",
    "#"
   ]
  },
  {
   "cell_type": "markdown",
   "metadata": {},
   "source": [
    "# Running Simple Calculations"
   ]
  },
  {
   "cell_type": "code",
   "execution_count": null,
   "metadata": {},
   "outputs": [],
   "source": [
    "# Run HF and save the results\n",
    "mf = scf.RHF(mol).run()\n",
    "\n",
    "# In Jupyter notebooks you can hover over methods to see docstrings or you can print the docstrings out!\n",
    "print(mf.__doc__)"
   ]
  },
  {
   "cell_type": "markdown",
   "metadata": {},
   "source": [
    "# Visualizing Results\n",
    "\n",
    "Even from \"simple\" mean field methods, there are many important results and working in Python makes it easy to manipulate and visualize them!"
   ]
  },
  {
   "cell_type": "code",
   "execution_count": null,
   "metadata": {},
   "outputs": [],
   "source": [
    "import plotly.express as px\n",
    "\n",
    "# Plot the MO Occupations\n",
    "fig = px.line(y=mf.mo_occ, markers=True, title=\"Molecular Orbital (MO) Occupations\")\n",
    "fig.update_layout(xaxis_title=\"Orbital Index (0-Based)\", yaxis_title=\"MO Occupation\")\n",
    "fig.show()"
   ]
  },
  {
   "cell_type": "code",
   "execution_count": null,
   "metadata": {},
   "outputs": [],
   "source": [
    "# Plot the MO Energies (i.e. eigenvalues of the Fock matrix)\n",
    "fig = px.line(y=mf.mo_energy, markers=True, title=\"Molecular Orbital (MO) Energies\")\n",
    "fig.update_layout(xaxis_title=\"Orbital Index (0-Based)\", yaxis_title=\"MO Energies\")\n",
    "fig.show()"
   ]
  },
  {
   "cell_type": "code",
   "execution_count": null,
   "metadata": {},
   "outputs": [],
   "source": [
    "from pyscf.tools import cubegen\n",
    "\n",
    "cubegen.orbital(mol, 'mo.cube', mf.mo_coeff[:,20]);\n",
    "\n",
    "cube_view = py3Dmol.view(width=400,height=400)\n",
    "cube_view.addVolumetricData(open(\"mo.cube\").read(), \"cube\", {'isoval': -0.03, 'color': \"red\", 'opacity': 0.85})\n",
    "cube_view.addVolumetricData(open(\"mo.cube\").read(), \"cube\", {'isoval': 0.03, 'color': \"blue\", 'opacity': 0.85})\n",
    "cube_view.addModel(mol.tostring(format=\"xyz\"),'xyz')\n",
    "cube_view.setStyle({'stick':{}, \"sphere\":{\"radius\":0.4}})\n",
    "cube_view.setBackgroundColor('0xeeeeee')\n",
    "cube_view.show()\n",
    "\n",
    "#\n",
    "# Use your mouse to interact with the molecule!\n",
    "#"
   ]
  },
  {
   "cell_type": "markdown",
   "metadata": {},
   "source": [
    "# Working with Model Hamiltonians\n",
    "\n",
    "It's easy to customize the Hamiltonian for work with models. The one- and two-body interactions are just `numpy.ndarray` objects.\n",
    "\n",
    "In the example below, we show how to set up a 1D anti-PBD Hubbard model and perform meanfield *and* correlated calculations."
   ]
  },
  {
   "cell_type": "code",
   "execution_count": null,
   "metadata": {},
   "outputs": [],
   "source": [
    "# 1D anti-PBC Hubbard model at half filling\n",
    "# See https://github.com/pyscf/pyscf/blob/master/examples/mcscf/40-customizing_hamiltonian.py\n",
    "\n",
    "import numpy as np\n",
    "from pyscf import ao2mo\n",
    "\n",
    "mol = gto.M(verbose=3)\n",
    "mol.nelectron = 6\n",
    "\n",
    "mol.incore_anyway = True\n",
    "\n",
    "\n",
    "n = 12\n",
    "\n",
    "h1 = np.zeros((n,n))\n",
    "for i in range(n-1):\n",
    "    h1[i,i+1] = h1[i+1,i] = -1.0\n",
    "h1[n-1,0] = h1[0,n-1] = -1.0\n",
    "eri = np.zeros((n,n,n,n))\n",
    "for i in range(n):\n",
    "    eri[i,i,i,i] = 2.0\n",
    "\n",
    "mf = scf.RHF(mol)\n",
    "mf.get_hcore = lambda *args: h1\n",
    "mf.get_ovlp = lambda *args: np.eye(n)\n",
    "mf._eri = ao2mo.restore(8, eri, n)\n",
    "mf.init_guess = '1e'\n",
    "mf.kernel()\n",
    "\n",
    "mycc = cc.CCSD(mf).run()\n",
    "\n",
    "mycas = mcscf.CASSCF(mf, 4, 4)\n",
    "mycas.kernel();"
   ]
  },
  {
   "cell_type": "markdown",
   "metadata": {},
   "source": [
    "# Working with Periodic Systems\n",
    "\n",
    "In PySCF, molecules and periodic systems are treated (intentionally) in a very similar way!"
   ]
  },
  {
   "cell_type": "code",
   "execution_count": null,
   "metadata": {},
   "outputs": [],
   "source": [
    "from pyscf.pbc import gto as pbcgto\n",
    "from pyscf.pbc import scf as pbcscf\n",
    "\n",
    "cell = pbcgto.M(\n",
    "    atom = '''C 0.0000 0.0000 0.0000\n",
    "              C 0.8917 0.8917 0.8917''',\n",
    "    a = '''0.0000 1.7834 1.7834\n",
    "           1.7834 0.0000 1.7834\n",
    "           1.7834 1.7834 0.0000''',\n",
    "    pseudo = 'gth-pade',\n",
    "    basis = 'gth-szv'\n",
    "    )\n",
    "kpts = [2,2,2]\n",
    "mf = pbcscf.KRKS(cell, cell.make_kpts(kpts), xc=\"lda\").run()"
   ]
  },
  {
   "cell_type": "code",
   "execution_count": null,
   "metadata": {},
   "outputs": [],
   "source": []
  },
  {
   "cell_type": "code",
   "execution_count": null,
   "metadata": {},
   "outputs": [],
   "source": []
  }
 ],
 "metadata": {
  "colab": {
   "authorship_tag": "ABX9TyM8oZ0raaYSXI9NkSGLAy4R",
   "collapsed_sections": [],
   "include_colab_link": true,
   "name": "00_PySCF_Intro.ipynb",
   "provenance": []
  },
  "kernelspec": {
   "display_name": "Python 3 (ipykernel)",
   "language": "python",
   "name": "python3"
  },
  "language_info": {
   "codemirror_mode": {
    "name": "ipython",
    "version": 3
   },
   "file_extension": ".py",
   "mimetype": "text/x-python",
   "name": "python",
   "nbconvert_exporter": "python",
   "pygments_lexer": "ipython3"
  }
 },
 "nbformat": 4,
 "nbformat_minor": 1
}
