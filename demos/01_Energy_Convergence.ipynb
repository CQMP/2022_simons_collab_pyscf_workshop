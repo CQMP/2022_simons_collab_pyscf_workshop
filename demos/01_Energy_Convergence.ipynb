{
  "nbformat": 4,
  "nbformat_minor": 0,
  "metadata": {
    "colab": {
      "name": "01_Energy_Convergence.ipynb",
      "provenance": [],
      "collapsed_sections": [],
      "include_colab_link": true
    },
    "kernelspec": {
      "name": "python3",
      "display_name": "Python 3"
    },
    "language_info": {
      "name": "python"
    }
  },
  "cells": [
    {
      "cell_type": "markdown",
      "metadata": {
        "id": "view-in-github",
        "colab_type": "text"
      },
      "source": [
        "<a href=\"https://colab.research.google.com/github/jamesETsmith/2022_simons_collab_pyscf_workshop/blob/main/demos/01_Energy_Convergence.ipynb\" target=\"_parent\"><img src=\"https://colab.research.google.com/assets/colab-badge.svg\" alt=\"Open In Colab\"/></a>"
      ]
    },
    {
      "cell_type": "markdown",
      "source": [
        "# Setting up the Jupyter notebook\n",
        "\n",
        "* We need to install a few things before we get started\n",
        "  * [PySCF](https://pyscf.org/) (for the quantum chemistry)\n",
        "  * [py3DMol](https://3dmol.csb.pitt.edu/) for visualizing the molecule\n",
        "  * [plotly](https://plotly.com/python/) and kaleido for plotting"
      ],
      "metadata": {
        "id": "0BufWnLH5U1v"
      }
    },
    {
      "cell_type": "code",
      "execution_count": 1,
      "metadata": {
        "id": "eBF3rhIbZzXo"
      },
      "outputs": [],
      "source": [
        "%pip install -q pyscf py3DMol plotly kaleido"
      ]
    },
    {
      "cell_type": "code",
      "source": [
        "from pyscf import gto, scf, dft, mp, cc\n",
        "import py3Dmol\n",
        "import plotly.express as px"
      ],
      "metadata": {
        "id": "dEuTmjqAa5tt"
      },
      "execution_count": 2,
      "outputs": []
    },
    {
      "cell_type": "markdown",
      "source": [
        "# Setting up our system\n",
        "\n",
        "- We initialize the molecular (or solid) PySCF object with coordinates, symmetry, basis, spin, and charge information\n",
        "- We can check that things look right with [py3DMol](https://3dmol.csb.pitt.edu/). Use your mouse to move the molecular around!\n",
        "\n"
      ],
      "metadata": {
        "id": "x-fDRxokrjuI"
      }
    },
    {
      "cell_type": "code",
      "source": [
        "# Experimental geometry of gas-phase water\n",
        "# Ref: https://cccbdb.nist.gov/expgeom2x.asp\n",
        "mol_xyz = \"\"\"O        0.0000   0.0000   0.1173\n",
        "             H        0.0000   0.7572\t -0.4692\n",
        "             H        0.0000  -0.7572\t -0.4692\"\"\"\n",
        "mol = gto.M(atom=mol_xyz, basis=\"def2tzvp\", verbose=4) # TODO: add symmetry, spin, and charge but say they are handled by default"
      ],
      "metadata": {
        "colab": {
          "base_uri": "https://localhost:8080/"
        },
        "id": "cPjh9IeaaKK_",
        "outputId": "0120838e-6579-4a4e-bccc-d57953efd1e2"
      },
      "execution_count": 3,
      "outputs": [
        {
          "output_type": "stream",
          "name": "stdout",
          "text": [
            "System: uname_result(system='Linux', node='16878c4dceaf', release='5.4.188+', version='#1 SMP Sun Apr 24 10:03:06 PDT 2022', machine='x86_64', processor='x86_64')  Threads 2\n",
            "Python 3.7.13 (default, Apr 24 2022, 01:04:09) \n",
            "[GCC 7.5.0]\n",
            "numpy 1.21.6  scipy 1.4.1\n",
            "Date: Fri Jun  3 18:17:40 2022\n",
            "PySCF version 2.0.1\n",
            "PySCF path  /usr/local/lib/python3.7/dist-packages/pyscf\n",
            "\n",
            "[CONFIG] conf_file None\n",
            "[INPUT] verbose = 4\n",
            "[INPUT] num. atoms = 3\n",
            "[INPUT] num. electrons = 10\n",
            "[INPUT] charge = 0\n",
            "[INPUT] spin (= nelec alpha-beta = 2S) = 0\n",
            "[INPUT] symmetry False subgroup None\n",
            "[INPUT] Mole.unit = angstrom\n",
            "[INPUT]  1 O      0.000000000000   0.000000000000   0.117300000000 AA    0.000000000000   0.000000000000   0.221664874411 Bohr\n",
            "[INPUT]  2 H      0.000000000000   0.757200000000  -0.469200000000 AA    0.000000000000   1.430900621521  -0.886659497646 Bohr\n",
            "[INPUT]  3 H      0.000000000000  -0.757200000000  -0.469200000000 AA    0.000000000000  -1.430900621521  -0.886659497646 Bohr\n",
            "\n",
            "nuclear repulsion = 9.1895337629349\n",
            "number of shells = 19\n",
            "number of NR pGTOs = 62\n",
            "number of NR cGTOs = 43\n",
            "basis = def2tzvp\n",
            "ecp = {}\n",
            "CPU time:         2.71\n"
          ]
        }
      ]
    },
    {
      "cell_type": "code",
      "source": [
        "xyz_view = py3Dmol.view(width=400,height=400)\n",
        "xyz_view.addModel(mol.tostring(format=\"xyz\"),'xyz')\n",
        "xyz_view.setStyle({'stick':{}, \"sphere\":{\"radius\":0.4}})\n",
        "xyz_view.setBackgroundColor('0xeeeeee')\n",
        "xyz_view.show()"
      ],
      "metadata": {
        "colab": {
          "base_uri": "https://localhost:8080/",
          "height": 417
        },
        "id": "G-agIGn8lMib",
        "outputId": "16209093-3849-4ab5-a0cf-6eb1aadaa7b2"
      },
      "execution_count": 4,
      "outputs": [
        {
          "output_type": "display_data",
          "data": {
            "application/3dmoljs_load.v0": "<div id=\"3dmolviewer_1654280260730619\"  style=\"position: relative; width: 400px; height: 400px\">\n        <p id=\"3dmolwarning_1654280260730619\" style=\"background-color:#ffcccc;color:black\">You appear to be running in JupyterLab (or JavaScript failed to load for some other reason).  You need to install the 3dmol extension: <br>\n        <tt>jupyter labextension install jupyterlab_3dmol</tt></p>\n        </div>\n<script>\n\nvar loadScriptAsync = function(uri){\n  return new Promise((resolve, reject) => {\n    var tag = document.createElement('script');\n    tag.src = uri;\n    tag.async = true;\n    tag.onload = () => {\n      resolve();\n    };\n  var firstScriptTag = document.getElementsByTagName('script')[0];\n  firstScriptTag.parentNode.insertBefore(tag, firstScriptTag);\n});\n};\n\nif(typeof $3Dmolpromise === 'undefined') {\n$3Dmolpromise = null;\n  $3Dmolpromise = loadScriptAsync('https://3dmol.org/build/3Dmol.js');\n}\n\nvar viewer_1654280260730619 = null;\nvar warn = document.getElementById(\"3dmolwarning_1654280260730619\");\nif(warn) {\n    warn.parentNode.removeChild(warn);\n}\n$3Dmolpromise.then(function() {\nviewer_1654280260730619 = $3Dmol.createViewer($(\"#3dmolviewer_1654280260730619\"),{backgroundColor:\"white\"});\nviewer_1654280260730619.zoomTo();\n\tviewer_1654280260730619.addModel(\"3\\nXYZ from PySCF\\nO           0.00000        0.00000        0.11730\\nH           0.00000        0.75720       -0.46920\\nH           0.00000       -0.75720       -0.46920\",\"xyz\");\n\tviewer_1654280260730619.setStyle({\"stick\": {}, \"sphere\": {\"radius\": 0.4}});\n\tviewer_1654280260730619.setBackgroundColor(\"0xeeeeee\");\nviewer_1654280260730619.render();\n});\n</script>",
            "text/html": [
              "<div id=\"3dmolviewer_1654280260730619\"  style=\"position: relative; width: 400px; height: 400px\">\n",
              "        <p id=\"3dmolwarning_1654280260730619\" style=\"background-color:#ffcccc;color:black\">You appear to be running in JupyterLab (or JavaScript failed to load for some other reason).  You need to install the 3dmol extension: <br>\n",
              "        <tt>jupyter labextension install jupyterlab_3dmol</tt></p>\n",
              "        </div>\n",
              "<script>\n",
              "\n",
              "var loadScriptAsync = function(uri){\n",
              "  return new Promise((resolve, reject) => {\n",
              "    var tag = document.createElement('script');\n",
              "    tag.src = uri;\n",
              "    tag.async = true;\n",
              "    tag.onload = () => {\n",
              "      resolve();\n",
              "    };\n",
              "  var firstScriptTag = document.getElementsByTagName('script')[0];\n",
              "  firstScriptTag.parentNode.insertBefore(tag, firstScriptTag);\n",
              "});\n",
              "};\n",
              "\n",
              "if(typeof $3Dmolpromise === 'undefined') {\n",
              "$3Dmolpromise = null;\n",
              "  $3Dmolpromise = loadScriptAsync('https://3dmol.org/build/3Dmol.js');\n",
              "}\n",
              "\n",
              "var viewer_1654280260730619 = null;\n",
              "var warn = document.getElementById(\"3dmolwarning_1654280260730619\");\n",
              "if(warn) {\n",
              "    warn.parentNode.removeChild(warn);\n",
              "}\n",
              "$3Dmolpromise.then(function() {\n",
              "viewer_1654280260730619 = $3Dmol.createViewer($(\"#3dmolviewer_1654280260730619\"),{backgroundColor:\"white\"});\n",
              "viewer_1654280260730619.zoomTo();\n",
              "\tviewer_1654280260730619.addModel(\"3\\nXYZ from PySCF\\nO           0.00000        0.00000        0.11730\\nH           0.00000        0.75720       -0.46920\\nH           0.00000       -0.75720       -0.46920\",\"xyz\");\n",
              "\tviewer_1654280260730619.setStyle({\"stick\": {}, \"sphere\": {\"radius\": 0.4}});\n",
              "\tviewer_1654280260730619.setBackgroundColor(\"0xeeeeee\");\n",
              "viewer_1654280260730619.render();\n",
              "});\n",
              "</script>"
            ]
          },
          "metadata": {}
        }
      ]
    },
    {
      "cell_type": "markdown",
      "source": [
        "# Short survey of quantum chemistry methods"
      ],
      "metadata": {
        "id": "3josJDxg6LGP"
      }
    },
    {
      "cell_type": "markdown",
      "source": [
        "## [Hartree-Fock](https://en.wikipedia.org/wiki/Hartree%E2%80%93Fock_method)\n",
        "\n",
        "\n",
        "* Hatree-Fock (HF) is the starting point of the most of quantum chemistry\n",
        "* We variationally optimize the orbitals for a single [Slater determinint](https://en.wikipedia.org/wiki/Slater_determinant)\n",
        "* Working in the basis of atom-centered basis function we solve the [Roothaan-Hall](https://en.wikipedia.org/wiki/Roothaan_equations) equations:\n",
        "\n",
        "$\\textbf{FC} = \\textbf{SC} \\epsilon$\n",
        "\n",
        "* $\\textbf{F}$ is the [Fock matrix]()\n",
        "* $\\textbf{C}$ is the molecular orbital coefficient matrix\n",
        "* $\\textbf{S}$ is the atomic orbital overlap matrix\n",
        "* $\\epsilon$ is the vector of molecular orbital energies\n",
        "\n",
        "See the PySCF [user guide](https://pyscf.org/user/scf.html) and [examples](https://github.com/pyscf/pyscf/tree/master/examples/scf) for more info.\n",
        "\n"
      ],
      "metadata": {
        "id": "hmi6ZX-XsnDy"
      }
    },
    {
      "cell_type": "code",
      "source": [
        "mymf = scf.RHF(mol).run()"
      ],
      "metadata": {
        "colab": {
          "base_uri": "https://localhost:8080/"
        },
        "id": "4RyV_tgJbQBx",
        "outputId": "c037b19c-4ca0-437b-dd87-9d36a1d63cc1"
      },
      "execution_count": 5,
      "outputs": [
        {
          "output_type": "stream",
          "name": "stdout",
          "text": [
            "\n",
            "\n",
            "******** <class 'pyscf.scf.hf.RHF'> ********\n",
            "method = RHF\n",
            "initial guess = minao\n",
            "damping factor = 0\n",
            "level_shift factor = 0\n",
            "DIIS = <class 'pyscf.scf.diis.CDIIS'>\n",
            "diis_start_cycle = 1\n",
            "diis_space = 8\n",
            "SCF conv_tol = 1e-09\n",
            "SCF conv_tol_grad = None\n",
            "SCF max_cycles = 50\n",
            "direct_scf = True\n",
            "direct_scf_tol = 1e-13\n",
            "chkfile to save SCF result = /content/tmpetlqsile\n",
            "max_memory 4000 MB (current use 210 MB)\n",
            "Set gradient conv threshold to 3.16228e-05\n",
            "init E= -75.8829473413812\n",
            "  HOMO = -0.479044698163315  LUMO = 0.072228440089738\n",
            "cycle= 1 E= -76.022968316524  delta_E= -0.14  |g|= 0.438  |ddm|= 0.926\n",
            "  HOMO = -0.432554692380851  LUMO = 0.125726455074504\n",
            "cycle= 2 E= -76.0491789648116  delta_E= -0.0262  |g|= 0.25  |ddm|= 0.308\n",
            "  HOMO = -0.519086888918856  LUMO = 0.123542897750612\n",
            "cycle= 3 E= -76.0587091509589  delta_E= -0.00953  |g|= 0.0381  |ddm|= 0.115\n",
            "  HOMO = -0.506929277770514  LUMO = 0.12751188697308\n",
            "cycle= 4 E= -76.0589890103909  delta_E= -0.00028  |g|= 0.00589  |ddm|= 0.0206\n",
            "  HOMO = -0.507804964556152  LUMO = 0.127623905405743\n",
            "cycle= 5 E= -76.0590041643756  delta_E= -1.52e-05  |g|= 0.00099  |ddm|= 0.0074\n",
            "  HOMO = -0.507972950661018  LUMO = 0.127606317246249\n",
            "cycle= 6 E= -76.0590047329297  delta_E= -5.69e-07  |g|= 0.000216  |ddm|= 0.00148\n",
            "  HOMO = -0.5080203468721  LUMO = 0.127611107462541\n",
            "cycle= 7 E= -76.059004760357  delta_E= -2.74e-08  |g|= 2.37e-05  |ddm|= 0.000341\n",
            "  HOMO = -0.5080195481696  LUMO = 0.127611386910494\n",
            "cycle= 8 E= -76.0590047605754  delta_E= -2.18e-10  |g|= 1.82e-06  |ddm|= 3.49e-05\n",
            "  HOMO = -0.508019234529958  LUMO = 0.127611488293792\n",
            "Extra cycle  E= -76.0590047605767  delta_E= -1.35e-12  |g|= 6.07e-07  |ddm|= 4.19e-06\n",
            "converged SCF energy = -76.0590047605767\n"
          ]
        }
      ]
    },
    {
      "cell_type": "markdown",
      "source": [
        "## [Density Functional Theory](https://en.wikipedia.org/wiki/Density_functional_theory)\n",
        "\n",
        "* In Density Functional Theory (DFT), the electron density of a reference noninteracting system is used to represent the density of the true interacting system.\n",
        "* The formulation resembles HF with a different effective Fock potential.\n",
        "* This effective potential depends on the density functional approximation which is chosen by the user.\n",
        "* PySCF gives users the access to a large number of functionals through the [libxc](https://tddft.org/programs/libxc/) and [xcfun](https://github.com/dftlibs/xcfun) libraries.\n",
        "\n",
        "See the PySCF [user guide](https://pyscf.org/user/dft.html) and [examples](https://github.com/pyscf/pyscf/tree/master/examples/dft) for more info."
      ],
      "metadata": {
        "id": "li242qaiuvC0"
      }
    },
    {
      "cell_type": "code",
      "source": [
        "myrks = dft.RKS(mol, xc=\"PBE\").run()"
      ],
      "metadata": {
        "colab": {
          "base_uri": "https://localhost:8080/"
        },
        "id": "xNvxFlJalybD",
        "outputId": "25d54960-f4e6-49c3-800f-f212f27d2ae2"
      },
      "execution_count": 6,
      "outputs": [
        {
          "output_type": "stream",
          "name": "stdout",
          "text": [
            "\n",
            "\n",
            "******** <class 'pyscf.dft.rks.RKS'> ********\n",
            "method = RKS-RHF\n",
            "initial guess = minao\n",
            "damping factor = 0\n",
            "level_shift factor = 0\n",
            "DIIS = <class 'pyscf.scf.diis.CDIIS'>\n",
            "diis_start_cycle = 1\n",
            "diis_space = 8\n",
            "SCF conv_tol = 1e-09\n",
            "SCF conv_tol_grad = None\n",
            "SCF max_cycles = 50\n",
            "direct_scf = True\n",
            "direct_scf_tol = 1e-13\n",
            "chkfile to save SCF result = /content/tmpru1i6_f9\n",
            "max_memory 4000 MB (current use 222 MB)\n",
            "XC library pyscf.dft.libxc version 5.1.7\n",
            "    S. Lehtola, C. Steigemann, M. J. Oliveira, and M. A. Marques, SoftwareX 7, 1 (2018)\n",
            "XC functionals = PBE\n",
            "    J. P. Perdew, K. Burke, and M. Ernzerhof, Phys. Rev. Lett. 77, 3865 (1996)\n",
            "    J. P. Perdew, K. Burke, and M. Ernzerhof, Phys. Rev. Lett. 78, 1396 (1997)\n",
            "    J. P. Perdew, K. Burke, and M. Ernzerhof, Phys. Rev. Lett. 77, 3865 (1996)\n",
            "    J. P. Perdew, K. Burke, and M. Ernzerhof, Phys. Rev. Lett. 78, 1396 (1997)\n",
            "radial grids: \n",
            "    Treutler-Ahlrichs [JCP 102, 346 (1995); DOI:10.1063/1.469408] (M4) radial grids\n",
            "    \n",
            "becke partition: Becke, JCP 88, 2547 (1988); DOI:10.1063/1.454033\n",
            "pruning grids: <function nwchem_prune at 0x7f82a0c6de60>\n",
            "grids dens level: 3\n",
            "symmetrized grids: False\n",
            "atomic radii adjust function: <function treutler_atomic_radii_adjust at 0x7f829dedf320>\n",
            "small_rho_cutoff = 1e-07\n",
            "Set gradient conv threshold to 3.16228e-05\n",
            "tot grids = 34310\n",
            "init E= -76.3326270183022\n",
            "  HOMO = -0.403045032580013  LUMO = -0.0218178340830075\n",
            "cycle= 1 E= -76.2667877278528  delta_E= 0.0658  |g|= 0.789  |ddm|= 0.971\n",
            "  HOMO = -0.0717744570678518  LUMO = 0.0378492551453463\n",
            "cycle= 2 E= -75.9296426715425  delta_E= 0.337  |g|= 1.54  |ddm|= 1.32\n",
            "  HOMO = -0.269207558822949  LUMO = -0.00449184880149379\n",
            "cycle= 3 E= -76.3759805073002  delta_E= -0.446  |g|= 0.0467  |ddm|= 0.986\n",
            "  HOMO = -0.257530200844404  LUMO = -0.000286572952545241\n",
            "cycle= 4 E= -76.3764260364607  delta_E= -0.000446  |g|= 0.00974  |ddm|= 0.028\n",
            "  HOMO = -0.25671442178277  LUMO = -0.000787494144369468\n",
            "cycle= 5 E= -76.3764433976825  delta_E= -1.74e-05  |g|= 0.00114  |ddm|= 0.00553\n",
            "  HOMO = -0.256649801343969  LUMO = -0.000832500543498219\n",
            "cycle= 6 E= -76.3764435728532  delta_E= -1.75e-07  |g|= 8.95e-05  |ddm|= 0.000421\n",
            "  HOMO = -0.256637932242925  LUMO = -0.000831905020076695\n",
            "cycle= 7 E= -76.376443574405  delta_E= -1.55e-09  |g|= 8.41e-06  |ddm|= 4.97e-05\n",
            "  HOMO = -0.256636123628231  LUMO = -0.000831240892325815\n",
            "cycle= 8 E= -76.3764435744175  delta_E= -1.25e-11  |g|= 2.26e-07  |ddm|= 4.84e-06\n",
            "  HOMO = -0.256636150050584  LUMO = -0.000831268641339929\n",
            "Extra cycle  E= -76.3764435744175  delta_E= -2.84e-14  |g|= 1.28e-07  |ddm|= 2.19e-07\n",
            "converged SCF energy = -76.3764435744175\n"
          ]
        }
      ]
    },
    {
      "cell_type": "markdown",
      "source": [
        "## [Møller–Plesset perturbation theory](https://en.wikipedia.org/wiki/M%C3%B8ller%E2%80%93Plesset_perturbation_theory)\n",
        "\n",
        "* Perturbative corrections to the Hartree-Fock approximation.\n",
        "\n",
        "See the PySCF [user guide](https://pyscf.org/user/mp.html) and [examples](https://github.com/pyscf/pyscf/tree/master/examples/mp) for more info."
      ],
      "metadata": {
        "id": "O-bBre_Gu3s3"
      }
    },
    {
      "cell_type": "code",
      "source": [
        "mymp2 = mp.MP2(mymf).run()"
      ],
      "metadata": {
        "colab": {
          "base_uri": "https://localhost:8080/"
        },
        "id": "lVhXGgePd9_h",
        "outputId": "a7bdc229-27e2-4fe4-b67b-3c19650afab9"
      },
      "execution_count": 7,
      "outputs": [
        {
          "output_type": "stream",
          "name": "stdout",
          "text": [
            "\n",
            "******** <class 'pyscf.mp.mp2.MP2'> ********\n",
            "nocc = 5, nmo = 43\n",
            "max_memory 4000 MB (current use 292 MB)\n",
            "E(MP2) = -76.3316077548634  E_corr = -0.272602994286647\n"
          ]
        }
      ]
    },
    {
      "cell_type": "markdown",
      "source": [
        "## [Coupled Cluster](https://en.wikipedia.org/wiki/Coupled_cluster)\n",
        "\n",
        "* Perturbative method that improves on the Hartree-Fock approximation.\n",
        "* Coupled Cluster Singles and Doubles (CCSD) includes single and double excitation on top of the HF wave function.\n",
        "* Accuracy can be improved by including triples perturbatively (CCSD(T)).\n",
        "* Non-variational, but size extensive description of ground states. For excited states, see [EOM-CCSD]().\n",
        "\n",
        "See the PySCF [user guide](https://pyscf.org/user/cc.html) and [examples](https://github.com/pyscf/pyscf/tree/master/examples/cc) for more info."
      ],
      "metadata": {
        "id": "Sj-BmeHBvAqO"
      }
    },
    {
      "cell_type": "code",
      "source": [
        "mycc = cc.CCSD(mymf).run()"
      ],
      "metadata": {
        "colab": {
          "base_uri": "https://localhost:8080/"
        },
        "id": "HvAFoYHelkba",
        "outputId": "6ad7b3f6-5951-425e-e711-bd0211fe91dd"
      },
      "execution_count": 8,
      "outputs": [
        {
          "output_type": "stream",
          "name": "stdout",
          "text": [
            "\n",
            "******** <class 'pyscf.cc.ccsd.CCSD'> ********\n",
            "CC2 = 0\n",
            "CCSD nocc = 5, nmo = 43\n",
            "max_cycle = 50\n",
            "direct = 0\n",
            "conv_tol = 1e-07\n",
            "conv_tol_normt = 1e-05\n",
            "diis_space = 6\n",
            "diis_start_cycle = 0\n",
            "diis_start_energy_diff = 1e+09\n",
            "max_memory 4000 MB (current use 292 MB)\n",
            "Init t2, MP2 energy = -76.3316077434556  E_corr(MP2) -0.272602982878812\n",
            "Init E_corr(CCSD) = -0.272602982878943\n",
            "cycle = 1  E_corr(CCSD) = -0.274027187984409  dE = -0.00142420511  norm(t1,t2) = 0.0246931\n",
            "cycle = 2  E_corr(CCSD) = -0.278753761838253  dE = -0.00472657385  norm(t1,t2) = 0.00806209\n",
            "cycle = 3  E_corr(CCSD) = -0.279276820293764  dE = -0.000523058456  norm(t1,t2) = 0.0027462\n",
            "cycle = 4  E_corr(CCSD) = -0.279629076314956  dE = -0.000352256021  norm(t1,t2) = 0.000899687\n",
            "cycle = 5  E_corr(CCSD) = -0.279638117060696  dE = -9.04074574e-06  norm(t1,t2) = 0.000187256\n",
            "cycle = 6  E_corr(CCSD) = -0.279622033353006  dE = 1.60837077e-05  norm(t1,t2) = 5.34116e-05\n",
            "cycle = 7  E_corr(CCSD) = -0.2796247587977  dE = -2.72544469e-06  norm(t1,t2) = 2.15346e-05\n",
            "cycle = 8  E_corr(CCSD) = -0.279624445312004  dE = 3.13485697e-07  norm(t1,t2) = 5.00775e-06\n",
            "cycle = 9  E_corr(CCSD) = -0.2796241983628  dE = 2.46949204e-07  norm(t1,t2) = 1.29473e-06\n",
            "cycle = 10  E_corr(CCSD) = -0.279624188028083  dE = 1.03347164e-08  norm(t1,t2) = 3.17839e-07\n",
            "CCSD converged\n",
            "E(CCSD) = -76.33862894860484  E_corr = -0.2796241880280832\n"
          ]
        }
      ]
    },
    {
      "cell_type": "code",
      "source": [
        "e_ccsd_t = mycc.ccsd_t()"
      ],
      "metadata": {
        "colab": {
          "base_uri": "https://localhost:8080/"
        },
        "id": "p6JxvG9GlqIG",
        "outputId": "c73867e2-2409-485c-a4e7-e6d79a2909e9"
      },
      "execution_count": 9,
      "outputs": [
        {
          "output_type": "stream",
          "name": "stdout",
          "text": [
            "CCSD(T) correction = -0.00703817132754736\n"
          ]
        }
      ]
    },
    {
      "cell_type": "markdown",
      "source": [
        "# Analysis\n",
        "\n",
        "* TODO"
      ],
      "metadata": {
        "id": "Vy-Lsd4OvFte"
      }
    },
    {
      "cell_type": "code",
      "source": [
        "# Collect data\n",
        "methods = [\"HF\", \"MP2\", \"CCSD\", \"CCSD(T)\"]\n",
        "energies = [mymf.e_tot, mymp2.e_tot, mycc.e_tot, mycc.e_tot + e_ccsd_t]\n",
        "\n",
        "# Plotting\n",
        "fig = px.line(x=methods, y=energies, title=\"Jacob's Ladder\", markers=True)\n",
        "fig.update_layout(xaxis_title=\"Method\", yaxis_title=\"Energy (Ha)\")\n",
        "fig.update_traces(marker_size=12)\n",
        "fig.show() # It's interactive!"
      ],
      "metadata": {
        "colab": {
          "base_uri": "https://localhost:8080/",
          "height": 542
        },
        "id": "OogwVn88n028",
        "outputId": "1315d94f-489f-4f23-ec28-03c9736fb589"
      },
      "execution_count": 11,
      "outputs": [
        {
          "output_type": "display_data",
          "data": {
            "text/html": [
              "<html>\n",
              "<head><meta charset=\"utf-8\" /></head>\n",
              "<body>\n",
              "    <div>            <script src=\"https://cdnjs.cloudflare.com/ajax/libs/mathjax/2.7.5/MathJax.js?config=TeX-AMS-MML_SVG\"></script><script type=\"text/javascript\">if (window.MathJax) {MathJax.Hub.Config({SVG: {font: \"STIX-Web\"}});}</script>                <script type=\"text/javascript\">window.PlotlyConfig = {MathJaxConfig: 'local'};</script>\n",
              "        <script src=\"https://cdn.plot.ly/plotly-2.8.3.min.js\"></script>                <div id=\"55f4d886-0b8e-4245-a23b-80f6b9f67bfb\" class=\"plotly-graph-div\" style=\"height:525px; width:100%;\"></div>            <script type=\"text/javascript\">                                    window.PLOTLYENV=window.PLOTLYENV || {};                                    if (document.getElementById(\"55f4d886-0b8e-4245-a23b-80f6b9f67bfb\")) {                    Plotly.newPlot(                        \"55f4d886-0b8e-4245-a23b-80f6b9f67bfb\",                        [{\"hovertemplate\":\"x=%{x}<br>y=%{y}<extra></extra>\",\"legendgroup\":\"\",\"line\":{\"color\":\"#636efa\",\"dash\":\"solid\"},\"marker\":{\"symbol\":\"circle\",\"size\":12},\"mode\":\"lines+markers\",\"name\":\"\",\"orientation\":\"v\",\"showlegend\":false,\"x\":[\"HF\",\"MP2\",\"CCSD\",\"CCSD(T)\"],\"xaxis\":\"x\",\"y\":[-76.05900476057674,-76.33160775486338,-76.33862894860484,-76.34566711993239],\"yaxis\":\"y\",\"type\":\"scatter\"}],                        {\"template\":{\"data\":{\"bar\":[{\"error_x\":{\"color\":\"#2a3f5f\"},\"error_y\":{\"color\":\"#2a3f5f\"},\"marker\":{\"line\":{\"color\":\"#E5ECF6\",\"width\":0.5},\"pattern\":{\"fillmode\":\"overlay\",\"size\":10,\"solidity\":0.2}},\"type\":\"bar\"}],\"barpolar\":[{\"marker\":{\"line\":{\"color\":\"#E5ECF6\",\"width\":0.5},\"pattern\":{\"fillmode\":\"overlay\",\"size\":10,\"solidity\":0.2}},\"type\":\"barpolar\"}],\"carpet\":[{\"aaxis\":{\"endlinecolor\":\"#2a3f5f\",\"gridcolor\":\"white\",\"linecolor\":\"white\",\"minorgridcolor\":\"white\",\"startlinecolor\":\"#2a3f5f\"},\"baxis\":{\"endlinecolor\":\"#2a3f5f\",\"gridcolor\":\"white\",\"linecolor\":\"white\",\"minorgridcolor\":\"white\",\"startlinecolor\":\"#2a3f5f\"},\"type\":\"carpet\"}],\"choropleth\":[{\"colorbar\":{\"outlinewidth\":0,\"ticks\":\"\"},\"type\":\"choropleth\"}],\"contour\":[{\"colorbar\":{\"outlinewidth\":0,\"ticks\":\"\"},\"colorscale\":[[0.0,\"#0d0887\"],[0.1111111111111111,\"#46039f\"],[0.2222222222222222,\"#7201a8\"],[0.3333333333333333,\"#9c179e\"],[0.4444444444444444,\"#bd3786\"],[0.5555555555555556,\"#d8576b\"],[0.6666666666666666,\"#ed7953\"],[0.7777777777777778,\"#fb9f3a\"],[0.8888888888888888,\"#fdca26\"],[1.0,\"#f0f921\"]],\"type\":\"contour\"}],\"contourcarpet\":[{\"colorbar\":{\"outlinewidth\":0,\"ticks\":\"\"},\"type\":\"contourcarpet\"}],\"heatmap\":[{\"colorbar\":{\"outlinewidth\":0,\"ticks\":\"\"},\"colorscale\":[[0.0,\"#0d0887\"],[0.1111111111111111,\"#46039f\"],[0.2222222222222222,\"#7201a8\"],[0.3333333333333333,\"#9c179e\"],[0.4444444444444444,\"#bd3786\"],[0.5555555555555556,\"#d8576b\"],[0.6666666666666666,\"#ed7953\"],[0.7777777777777778,\"#fb9f3a\"],[0.8888888888888888,\"#fdca26\"],[1.0,\"#f0f921\"]],\"type\":\"heatmap\"}],\"heatmapgl\":[{\"colorbar\":{\"outlinewidth\":0,\"ticks\":\"\"},\"colorscale\":[[0.0,\"#0d0887\"],[0.1111111111111111,\"#46039f\"],[0.2222222222222222,\"#7201a8\"],[0.3333333333333333,\"#9c179e\"],[0.4444444444444444,\"#bd3786\"],[0.5555555555555556,\"#d8576b\"],[0.6666666666666666,\"#ed7953\"],[0.7777777777777778,\"#fb9f3a\"],[0.8888888888888888,\"#fdca26\"],[1.0,\"#f0f921\"]],\"type\":\"heatmapgl\"}],\"histogram\":[{\"marker\":{\"pattern\":{\"fillmode\":\"overlay\",\"size\":10,\"solidity\":0.2}},\"type\":\"histogram\"}],\"histogram2d\":[{\"colorbar\":{\"outlinewidth\":0,\"ticks\":\"\"},\"colorscale\":[[0.0,\"#0d0887\"],[0.1111111111111111,\"#46039f\"],[0.2222222222222222,\"#7201a8\"],[0.3333333333333333,\"#9c179e\"],[0.4444444444444444,\"#bd3786\"],[0.5555555555555556,\"#d8576b\"],[0.6666666666666666,\"#ed7953\"],[0.7777777777777778,\"#fb9f3a\"],[0.8888888888888888,\"#fdca26\"],[1.0,\"#f0f921\"]],\"type\":\"histogram2d\"}],\"histogram2dcontour\":[{\"colorbar\":{\"outlinewidth\":0,\"ticks\":\"\"},\"colorscale\":[[0.0,\"#0d0887\"],[0.1111111111111111,\"#46039f\"],[0.2222222222222222,\"#7201a8\"],[0.3333333333333333,\"#9c179e\"],[0.4444444444444444,\"#bd3786\"],[0.5555555555555556,\"#d8576b\"],[0.6666666666666666,\"#ed7953\"],[0.7777777777777778,\"#fb9f3a\"],[0.8888888888888888,\"#fdca26\"],[1.0,\"#f0f921\"]],\"type\":\"histogram2dcontour\"}],\"mesh3d\":[{\"colorbar\":{\"outlinewidth\":0,\"ticks\":\"\"},\"type\":\"mesh3d\"}],\"parcoords\":[{\"line\":{\"colorbar\":{\"outlinewidth\":0,\"ticks\":\"\"}},\"type\":\"parcoords\"}],\"pie\":[{\"automargin\":true,\"type\":\"pie\"}],\"scatter\":[{\"marker\":{\"colorbar\":{\"outlinewidth\":0,\"ticks\":\"\"}},\"type\":\"scatter\"}],\"scatter3d\":[{\"line\":{\"colorbar\":{\"outlinewidth\":0,\"ticks\":\"\"}},\"marker\":{\"colorbar\":{\"outlinewidth\":0,\"ticks\":\"\"}},\"type\":\"scatter3d\"}],\"scattercarpet\":[{\"marker\":{\"colorbar\":{\"outlinewidth\":0,\"ticks\":\"\"}},\"type\":\"scattercarpet\"}],\"scattergeo\":[{\"marker\":{\"colorbar\":{\"outlinewidth\":0,\"ticks\":\"\"}},\"type\":\"scattergeo\"}],\"scattergl\":[{\"marker\":{\"colorbar\":{\"outlinewidth\":0,\"ticks\":\"\"}},\"type\":\"scattergl\"}],\"scattermapbox\":[{\"marker\":{\"colorbar\":{\"outlinewidth\":0,\"ticks\":\"\"}},\"type\":\"scattermapbox\"}],\"scatterpolar\":[{\"marker\":{\"colorbar\":{\"outlinewidth\":0,\"ticks\":\"\"}},\"type\":\"scatterpolar\"}],\"scatterpolargl\":[{\"marker\":{\"colorbar\":{\"outlinewidth\":0,\"ticks\":\"\"}},\"type\":\"scatterpolargl\"}],\"scatterternary\":[{\"marker\":{\"colorbar\":{\"outlinewidth\":0,\"ticks\":\"\"}},\"type\":\"scatterternary\"}],\"surface\":[{\"colorbar\":{\"outlinewidth\":0,\"ticks\":\"\"},\"colorscale\":[[0.0,\"#0d0887\"],[0.1111111111111111,\"#46039f\"],[0.2222222222222222,\"#7201a8\"],[0.3333333333333333,\"#9c179e\"],[0.4444444444444444,\"#bd3786\"],[0.5555555555555556,\"#d8576b\"],[0.6666666666666666,\"#ed7953\"],[0.7777777777777778,\"#fb9f3a\"],[0.8888888888888888,\"#fdca26\"],[1.0,\"#f0f921\"]],\"type\":\"surface\"}],\"table\":[{\"cells\":{\"fill\":{\"color\":\"#EBF0F8\"},\"line\":{\"color\":\"white\"}},\"header\":{\"fill\":{\"color\":\"#C8D4E3\"},\"line\":{\"color\":\"white\"}},\"type\":\"table\"}]},\"layout\":{\"annotationdefaults\":{\"arrowcolor\":\"#2a3f5f\",\"arrowhead\":0,\"arrowwidth\":1},\"autotypenumbers\":\"strict\",\"coloraxis\":{\"colorbar\":{\"outlinewidth\":0,\"ticks\":\"\"}},\"colorscale\":{\"diverging\":[[0,\"#8e0152\"],[0.1,\"#c51b7d\"],[0.2,\"#de77ae\"],[0.3,\"#f1b6da\"],[0.4,\"#fde0ef\"],[0.5,\"#f7f7f7\"],[0.6,\"#e6f5d0\"],[0.7,\"#b8e186\"],[0.8,\"#7fbc41\"],[0.9,\"#4d9221\"],[1,\"#276419\"]],\"sequential\":[[0.0,\"#0d0887\"],[0.1111111111111111,\"#46039f\"],[0.2222222222222222,\"#7201a8\"],[0.3333333333333333,\"#9c179e\"],[0.4444444444444444,\"#bd3786\"],[0.5555555555555556,\"#d8576b\"],[0.6666666666666666,\"#ed7953\"],[0.7777777777777778,\"#fb9f3a\"],[0.8888888888888888,\"#fdca26\"],[1.0,\"#f0f921\"]],\"sequentialminus\":[[0.0,\"#0d0887\"],[0.1111111111111111,\"#46039f\"],[0.2222222222222222,\"#7201a8\"],[0.3333333333333333,\"#9c179e\"],[0.4444444444444444,\"#bd3786\"],[0.5555555555555556,\"#d8576b\"],[0.6666666666666666,\"#ed7953\"],[0.7777777777777778,\"#fb9f3a\"],[0.8888888888888888,\"#fdca26\"],[1.0,\"#f0f921\"]]},\"colorway\":[\"#636efa\",\"#EF553B\",\"#00cc96\",\"#ab63fa\",\"#FFA15A\",\"#19d3f3\",\"#FF6692\",\"#B6E880\",\"#FF97FF\",\"#FECB52\"],\"font\":{\"color\":\"#2a3f5f\"},\"geo\":{\"bgcolor\":\"white\",\"lakecolor\":\"white\",\"landcolor\":\"#E5ECF6\",\"showlakes\":true,\"showland\":true,\"subunitcolor\":\"white\"},\"hoverlabel\":{\"align\":\"left\"},\"hovermode\":\"closest\",\"mapbox\":{\"style\":\"light\"},\"paper_bgcolor\":\"white\",\"plot_bgcolor\":\"#E5ECF6\",\"polar\":{\"angularaxis\":{\"gridcolor\":\"white\",\"linecolor\":\"white\",\"ticks\":\"\"},\"bgcolor\":\"#E5ECF6\",\"radialaxis\":{\"gridcolor\":\"white\",\"linecolor\":\"white\",\"ticks\":\"\"}},\"scene\":{\"xaxis\":{\"backgroundcolor\":\"#E5ECF6\",\"gridcolor\":\"white\",\"gridwidth\":2,\"linecolor\":\"white\",\"showbackground\":true,\"ticks\":\"\",\"zerolinecolor\":\"white\"},\"yaxis\":{\"backgroundcolor\":\"#E5ECF6\",\"gridcolor\":\"white\",\"gridwidth\":2,\"linecolor\":\"white\",\"showbackground\":true,\"ticks\":\"\",\"zerolinecolor\":\"white\"},\"zaxis\":{\"backgroundcolor\":\"#E5ECF6\",\"gridcolor\":\"white\",\"gridwidth\":2,\"linecolor\":\"white\",\"showbackground\":true,\"ticks\":\"\",\"zerolinecolor\":\"white\"}},\"shapedefaults\":{\"line\":{\"color\":\"#2a3f5f\"}},\"ternary\":{\"aaxis\":{\"gridcolor\":\"white\",\"linecolor\":\"white\",\"ticks\":\"\"},\"baxis\":{\"gridcolor\":\"white\",\"linecolor\":\"white\",\"ticks\":\"\"},\"bgcolor\":\"#E5ECF6\",\"caxis\":{\"gridcolor\":\"white\",\"linecolor\":\"white\",\"ticks\":\"\"}},\"title\":{\"x\":0.05},\"xaxis\":{\"automargin\":true,\"gridcolor\":\"white\",\"linecolor\":\"white\",\"ticks\":\"\",\"title\":{\"standoff\":15},\"zerolinecolor\":\"white\",\"zerolinewidth\":2},\"yaxis\":{\"automargin\":true,\"gridcolor\":\"white\",\"linecolor\":\"white\",\"ticks\":\"\",\"title\":{\"standoff\":15},\"zerolinecolor\":\"white\",\"zerolinewidth\":2}}},\"xaxis\":{\"anchor\":\"y\",\"domain\":[0.0,1.0],\"title\":{\"text\":\"Method\"}},\"yaxis\":{\"anchor\":\"x\",\"domain\":[0.0,1.0],\"title\":{\"text\":\"Energy (Ha)\"}},\"legend\":{\"tracegroupgap\":0},\"title\":{\"text\":\"Jacob's Ladder\"}},                        {\"responsive\": true}                    ).then(function(){\n",
              "                            \n",
              "var gd = document.getElementById('55f4d886-0b8e-4245-a23b-80f6b9f67bfb');\n",
              "var x = new MutationObserver(function (mutations, observer) {{\n",
              "        var display = window.getComputedStyle(gd).display;\n",
              "        if (!display || display === 'none') {{\n",
              "            console.log([gd, 'removed!']);\n",
              "            Plotly.purge(gd);\n",
              "            observer.disconnect();\n",
              "        }}\n",
              "}});\n",
              "\n",
              "// Listen for the removal of the full notebook cells\n",
              "var notebookContainer = gd.closest('#notebook-container');\n",
              "if (notebookContainer) {{\n",
              "    x.observe(notebookContainer, {childList: true});\n",
              "}}\n",
              "\n",
              "// Listen for the clearing of the current output cell\n",
              "var outputEl = gd.closest('.output');\n",
              "if (outputEl) {{\n",
              "    x.observe(outputEl, {childList: true});\n",
              "}}\n",
              "\n",
              "                        })                };                            </script>        </div>\n",
              "</body>\n",
              "</html>"
            ]
          },
          "metadata": {}
        }
      ]
    },
    {
      "cell_type": "code",
      "source": [
        ""
      ],
      "metadata": {
        "id": "5ZE4PasEn5Q4"
      },
      "execution_count": 10,
      "outputs": []
    }
  ]
}