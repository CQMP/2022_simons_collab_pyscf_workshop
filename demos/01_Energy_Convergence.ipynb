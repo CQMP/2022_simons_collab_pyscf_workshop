{
  "nbformat": 4,
  "nbformat_minor": 0,
  "metadata": {
    "colab": {
      "name": "01_Energy_Convergence.ipynb",
      "provenance": [],
      "collapsed_sections": [],
      "authorship_tag": "ABX9TyObVSmhbkjXhJnTYB42RVhV",
      "include_colab_link": true
    },
    "kernelspec": {
      "name": "python3",
      "display_name": "Python 3"
    },
    "language_info": {
      "name": "python"
    }
  },
  "cells": [
    {
      "cell_type": "markdown",
      "metadata": {
        "id": "view-in-github",
        "colab_type": "text"
      },
      "source": [
        "<a href=\"https://colab.research.google.com/github/jamesETsmith/2022_simons_collab_pyscf_workshop/blob/main/demos/01_Energy_Convergence.ipynb\" target=\"_parent\"><img src=\"https://colab.research.google.com/assets/colab-badge.svg\" alt=\"Open In Colab\"/></a>"
      ]
    },
    {
      "cell_type": "code",
      "execution_count": 1,
      "metadata": {
        "colab": {
          "base_uri": "https://localhost:8080/"
        },
        "id": "eBF3rhIbZzXo",
        "outputId": "4fcca476-a0eb-4108-c6ec-3c3170e544dc"
      },
      "outputs": [
        {
          "output_type": "stream",
          "name": "stdout",
          "text": [
            "Looking in indexes: https://pypi.org/simple, https://us-python.pkg.dev/colab-wheels/public/simple/\n",
            "Requirement already satisfied: pyscf in /usr/local/lib/python3.7/dist-packages (2.0.1)\n",
            "Requirement already satisfied: py3DMol in /usr/local/lib/python3.7/dist-packages (1.8.0)\n",
            "Requirement already satisfied: plotly==5.8.0 in /usr/local/lib/python3.7/dist-packages (5.8.0)\n",
            "Requirement already satisfied: kaleido in /usr/local/lib/python3.7/dist-packages (0.2.1)\n",
            "Requirement already satisfied: tenacity>=6.2.0 in /usr/local/lib/python3.7/dist-packages (from plotly==5.8.0) (8.0.1)\n",
            "Requirement already satisfied: h5py>=2.7 in /usr/local/lib/python3.7/dist-packages (from pyscf) (3.1.0)\n",
            "Requirement already satisfied: scipy!=1.5.0,!=1.5.1 in /usr/local/lib/python3.7/dist-packages (from pyscf) (1.4.1)\n",
            "Requirement already satisfied: numpy!=1.16,!=1.17,>=1.13 in /usr/local/lib/python3.7/dist-packages (from pyscf) (1.21.6)\n",
            "Requirement already satisfied: cached-property in /usr/local/lib/python3.7/dist-packages (from h5py>=2.7->pyscf) (1.5.2)\n"
          ]
        }
      ],
      "source": [
        "%pip install pyscf py3DMol plotly==5.8.0 kaleido"
      ]
    },
    {
      "cell_type": "code",
      "source": [
        "from pyscf import gto, scf, dft, mp, cc\n",
        "import py3Dmol\n",
        "import plotly.express as px"
      ],
      "metadata": {
        "id": "dEuTmjqAa5tt"
      },
      "execution_count": 2,
      "outputs": []
    },
    {
      "cell_type": "markdown",
      "source": [
        "# Setting up our system\n",
        "\n",
        "- We initialize the molecular (or solid) PySCF object with coordinates, basis, spin, and charge information\n",
        "- We can check that things look right with [py3DMol](https://3dmol.csb.pitt.edu/). Use your mouse to move the molecular around!\n",
        "\n"
      ],
      "metadata": {
        "id": "x-fDRxokrjuI"
      }
    },
    {
      "cell_type": "code",
      "source": [
        "mol_xyz = \"\"\"O        0.00000    0.11779   0.00000\n",
        "             H        0.75545   -0.47116   0.00000\n",
        "             H       -0.75545   -0.47116   0.00000\"\"\"\n",
        "mol = gto.M(atom=mol_xyz, basis=\"def2svp\", verbose=4)"
      ],
      "metadata": {
        "colab": {
          "base_uri": "https://localhost:8080/"
        },
        "id": "cPjh9IeaaKK_",
        "outputId": "d80abda5-3b0c-4953-822f-308272e6150a"
      },
      "execution_count": 3,
      "outputs": [
        {
          "output_type": "stream",
          "name": "stdout",
          "text": [
            "System: uname_result(system='Linux', node='0839eeb389d5', release='5.4.188+', version='#1 SMP Sun Apr 24 10:03:06 PDT 2022', machine='x86_64', processor='x86_64')  Threads 2\n",
            "Python 3.7.13 (default, Apr 24 2022, 01:04:09) \n",
            "[GCC 7.5.0]\n",
            "numpy 1.21.6  scipy 1.4.1\n",
            "Date: Tue May 31 15:12:06 2022\n",
            "PySCF version 2.0.1\n",
            "PySCF path  /usr/local/lib/python3.7/dist-packages/pyscf\n",
            "\n",
            "[CONFIG] conf_file None\n",
            "[INPUT] verbose = 4\n",
            "[INPUT] num. atoms = 3\n",
            "[INPUT] num. electrons = 10\n",
            "[INPUT] charge = 0\n",
            "[INPUT] spin (= nelec alpha-beta = 2S) = 0\n",
            "[INPUT] symmetry False subgroup None\n",
            "[INPUT] Mole.unit = angstrom\n",
            "[INPUT]  1 O      0.000000000000   0.117790000000   0.000000000000 AA    0.000000000000   0.222590840213   0.000000000000 Bohr\n",
            "[INPUT]  2 H      0.755450000000  -0.471160000000   0.000000000000 AA    1.427593600803  -0.890363360850   0.000000000000 Bohr\n",
            "[INPUT]  3 H     -0.755450000000  -0.471160000000   0.000000000000 AA   -1.427593600803  -0.890363360850   0.000000000000 Bohr\n",
            "\n",
            "nuclear repulsion = 9.18922212537191\n",
            "number of shells = 12\n",
            "number of NR pGTOs = 38\n",
            "number of NR cGTOs = 24\n",
            "basis = def2svp\n",
            "ecp = {}\n",
            "CPU time:         3.70\n"
          ]
        }
      ]
    },
    {
      "cell_type": "code",
      "source": [
        "xyz_view = py3Dmol.view(width=400,height=400)\n",
        "xyz_view.addModel(mol.tostring(format=\"xyz\"),'xyz')\n",
        "xyz_view.setStyle({'stick':{}, \"sphere\":{\"radius\":0.4}})\n",
        "xyz_view.setBackgroundColor('0xeeeeee')\n",
        "xyz_view.show()"
      ],
      "metadata": {
        "colab": {
          "base_uri": "https://localhost:8080/",
          "height": 417
        },
        "id": "G-agIGn8lMib",
        "outputId": "61118d1c-a830-40cb-937b-60171d36d6da"
      },
      "execution_count": 4,
      "outputs": [
        {
          "output_type": "display_data",
          "data": {
            "application/3dmoljs_load.v0": "<div id=\"3dmolviewer_16540099260722492\"  style=\"position: relative; width: 400px; height: 400px\">\n        <p id=\"3dmolwarning_16540099260722492\" style=\"background-color:#ffcccc;color:black\">You appear to be running in JupyterLab (or JavaScript failed to load for some other reason).  You need to install the 3dmol extension: <br>\n        <tt>jupyter labextension install jupyterlab_3dmol</tt></p>\n        </div>\n<script>\n\nvar loadScriptAsync = function(uri){\n  return new Promise((resolve, reject) => {\n    var tag = document.createElement('script');\n    tag.src = uri;\n    tag.async = true;\n    tag.onload = () => {\n      resolve();\n    };\n  var firstScriptTag = document.getElementsByTagName('script')[0];\n  firstScriptTag.parentNode.insertBefore(tag, firstScriptTag);\n});\n};\n\nif(typeof $3Dmolpromise === 'undefined') {\n$3Dmolpromise = null;\n  $3Dmolpromise = loadScriptAsync('https://3dmol.org/build/3Dmol.js');\n}\n\nvar viewer_16540099260722492 = null;\nvar warn = document.getElementById(\"3dmolwarning_16540099260722492\");\nif(warn) {\n    warn.parentNode.removeChild(warn);\n}\n$3Dmolpromise.then(function() {\nviewer_16540099260722492 = $3Dmol.createViewer($(\"#3dmolviewer_16540099260722492\"),{backgroundColor:\"white\"});\nviewer_16540099260722492.zoomTo();\n\tviewer_16540099260722492.addModel(\"3\\nXYZ from PySCF\\nO           0.00000        0.11779        0.00000\\nH           0.75545       -0.47116        0.00000\\nH          -0.75545       -0.47116        0.00000\",\"xyz\");\n\tviewer_16540099260722492.setStyle({\"stick\": {}, \"sphere\": {\"radius\": 0.4}});\n\tviewer_16540099260722492.setBackgroundColor(\"0xeeeeee\");\nviewer_16540099260722492.render();\n});\n</script>",
            "text/html": [
              "<div id=\"3dmolviewer_16540099260722492\"  style=\"position: relative; width: 400px; height: 400px\">\n",
              "        <p id=\"3dmolwarning_16540099260722492\" style=\"background-color:#ffcccc;color:black\">You appear to be running in JupyterLab (or JavaScript failed to load for some other reason).  You need to install the 3dmol extension: <br>\n",
              "        <tt>jupyter labextension install jupyterlab_3dmol</tt></p>\n",
              "        </div>\n",
              "<script>\n",
              "\n",
              "var loadScriptAsync = function(uri){\n",
              "  return new Promise((resolve, reject) => {\n",
              "    var tag = document.createElement('script');\n",
              "    tag.src = uri;\n",
              "    tag.async = true;\n",
              "    tag.onload = () => {\n",
              "      resolve();\n",
              "    };\n",
              "  var firstScriptTag = document.getElementsByTagName('script')[0];\n",
              "  firstScriptTag.parentNode.insertBefore(tag, firstScriptTag);\n",
              "});\n",
              "};\n",
              "\n",
              "if(typeof $3Dmolpromise === 'undefined') {\n",
              "$3Dmolpromise = null;\n",
              "  $3Dmolpromise = loadScriptAsync('https://3dmol.org/build/3Dmol.js');\n",
              "}\n",
              "\n",
              "var viewer_16540099260722492 = null;\n",
              "var warn = document.getElementById(\"3dmolwarning_16540099260722492\");\n",
              "if(warn) {\n",
              "    warn.parentNode.removeChild(warn);\n",
              "}\n",
              "$3Dmolpromise.then(function() {\n",
              "viewer_16540099260722492 = $3Dmol.createViewer($(\"#3dmolviewer_16540099260722492\"),{backgroundColor:\"white\"});\n",
              "viewer_16540099260722492.zoomTo();\n",
              "\tviewer_16540099260722492.addModel(\"3\\nXYZ from PySCF\\nO           0.00000        0.11779        0.00000\\nH           0.75545       -0.47116        0.00000\\nH          -0.75545       -0.47116        0.00000\",\"xyz\");\n",
              "\tviewer_16540099260722492.setStyle({\"stick\": {}, \"sphere\": {\"radius\": 0.4}});\n",
              "\tviewer_16540099260722492.setBackgroundColor(\"0xeeeeee\");\n",
              "viewer_16540099260722492.render();\n",
              "});\n",
              "</script>"
            ]
          },
          "metadata": {}
        }
      ]
    },
    {
      "cell_type": "markdown",
      "source": [
        "## [Hartree-Fock](https://en.wikipedia.org/wiki/Hartree%E2%80%93Fock_method)\n",
        "\n",
        "\n",
        "* The starting point of the most of quantum chemistry\n",
        "* We variationally optimize the orbitals for a single [Slater determinint](https://en.wikipedia.org/wiki/Slater_determinant)\n",
        "* Working in the basis of atom-centered basis function we solve the [Roothaan-Hall](https://en.wikipedia.org/wiki/Roothaan_equations) equations:\n",
        "\n",
        "$\\textbf{FC} = \\textbf{SC} \\epsilon$\n",
        "\n",
        "* $\\textbf{F}$ is the [Fock matrix]()\n",
        "* $\\textbf{C}$ is the molecular orbital coefficient matrix\n",
        "* $\\textbf{S}$ is the atomic orbital overlap matrix\n",
        "* $\\epsilon$ is the vector of molecular orbital energies\n",
        "\n",
        "\n",
        "\n"
      ],
      "metadata": {
        "id": "hmi6ZX-XsnDy"
      }
    },
    {
      "cell_type": "code",
      "source": [
        "mymf = scf.RHF(mol).run()"
      ],
      "metadata": {
        "colab": {
          "base_uri": "https://localhost:8080/"
        },
        "id": "4RyV_tgJbQBx",
        "outputId": "98b8a960-119d-49f8-808d-ad6c24b217f0"
      },
      "execution_count": 5,
      "outputs": [
        {
          "output_type": "stream",
          "name": "stdout",
          "text": [
            "\n",
            "\n",
            "******** <class 'pyscf.scf.hf.RHF'> ********\n",
            "method = RHF\n",
            "initial guess = minao\n",
            "damping factor = 0\n",
            "level_shift factor = 0\n",
            "DIIS = <class 'pyscf.scf.diis.CDIIS'>\n",
            "diis_start_cycle = 1\n",
            "diis_space = 8\n",
            "SCF conv_tol = 1e-09\n",
            "SCF conv_tol_grad = None\n",
            "SCF max_cycles = 50\n",
            "direct_scf = True\n",
            "direct_scf_tol = 1e-13\n",
            "chkfile to save SCF result = /content/tmpujmsr75t\n",
            "max_memory 4000 MB (current use 211 MB)\n",
            "Set gradient conv threshold to 3.16228e-05\n",
            "init E= -75.7797774091097\n",
            "  HOMO = -0.478708376647229  LUMO = 0.0990356524184008\n",
            "cycle= 1 E= -75.9225305322194  delta_E= -0.143  |g|= 0.445  |ddm|= 1.33\n",
            "  HOMO = -0.41778520928291  LUMO = 0.175082517867731\n",
            "cycle= 2 E= -75.9520234518777  delta_E= -0.0295  |g|= 0.225  |ddm|= 0.404\n",
            "  HOMO = -0.50600267430301  LUMO = 0.171257824315094\n",
            "cycle= 3 E= -75.9607437950686  delta_E= -0.00872  |g|= 0.0293  |ddm|= 0.149\n",
            "  HOMO = -0.496600495366499  LUMO = 0.175945173483801\n",
            "cycle= 4 E= -75.9609532674162  delta_E= -0.000209  |g|= 0.00613  |ddm|= 0.0197\n",
            "  HOMO = -0.497922078755343  LUMO = 0.176146412748133\n",
            "cycle= 5 E= -75.9609696099863  delta_E= -1.63e-05  |g|= 0.000828  |ddm|= 0.00754\n",
            "  HOMO = -0.498163430119882  LUMO = 0.176056788178485\n",
            "cycle= 6 E= -75.960969976467  delta_E= -3.66e-07  |g|= 0.000154  |ddm|= 0.00125\n",
            "  HOMO = -0.498198507271368  LUMO = 0.176055581017663\n",
            "cycle= 7 E= -75.9609699899866  delta_E= -1.35e-08  |g|= 1.59e-05  |ddm|= 0.000281\n",
            "  HOMO = -0.498194447976093  LUMO = 0.17605469096635\n",
            "cycle= 8 E= -75.9609699901547  delta_E= -1.68e-10  |g|= 4.28e-06  |ddm|= 3.18e-05\n",
            "  HOMO = -0.498194289644227  LUMO = 0.176054531125155\n",
            "Extra cycle  E= -75.9609699901657  delta_E= -1.1e-11  |g|= 1.98e-06  |ddm|= 6.38e-06\n",
            "converged SCF energy = -75.9609699901657\n"
          ]
        }
      ]
    },
    {
      "cell_type": "markdown",
      "source": [
        "## Density Functional Theory\n",
        "\n",
        "TODO"
      ],
      "metadata": {
        "id": "li242qaiuvC0"
      }
    },
    {
      "cell_type": "code",
      "source": [
        "myrks = dft.RKS(mol, xc=\"wB97x\").run()"
      ],
      "metadata": {
        "colab": {
          "base_uri": "https://localhost:8080/"
        },
        "id": "xNvxFlJalybD",
        "outputId": "da9bb96e-7ffa-4e42-dc97-dce65db424b1"
      },
      "execution_count": 6,
      "outputs": [
        {
          "output_type": "stream",
          "name": "stdout",
          "text": [
            "\n",
            "\n",
            "******** <class 'pyscf.dft.rks.RKS'> ********\n",
            "method = RKS-RHF\n",
            "initial guess = minao\n",
            "damping factor = 0\n",
            "level_shift factor = 0\n",
            "DIIS = <class 'pyscf.scf.diis.CDIIS'>\n",
            "diis_start_cycle = 1\n",
            "diis_space = 8\n",
            "SCF conv_tol = 1e-09\n",
            "SCF conv_tol_grad = None\n",
            "SCF max_cycles = 50\n",
            "direct_scf = True\n",
            "direct_scf_tol = 1e-13\n",
            "chkfile to save SCF result = /content/tmp87oxn2xt\n",
            "max_memory 4000 MB (current use 219 MB)\n",
            "XC library pyscf.dft.libxc version 5.1.7\n",
            "    S. Lehtola, C. Steigemann, M. J. Oliveira, and M. A. Marques, SoftwareX 7, 1 (2018)\n",
            "XC functionals = wB97x\n",
            "    J.-D. Chai and M. Head-Gordon, J. Chem. Phys. 128, 084106 (2008)\n",
            "radial grids: \n",
            "    Treutler-Ahlrichs [JCP 102, 346 (1995); DOI:10.1063/1.469408] (M4) radial grids\n",
            "    \n",
            "becke partition: Becke, JCP 88, 2547 (1988); DOI:10.1063/1.454033\n",
            "pruning grids: <function nwchem_prune at 0x7f96223973b0>\n",
            "grids dens level: 3\n",
            "symmetrized grids: False\n",
            "atomic radii adjust function: <function treutler_atomic_radii_adjust at 0x7f9622397830>\n",
            "small_rho_cutoff = 1e-07\n",
            "Set gradient conv threshold to 3.16228e-05\n",
            "tot grids = 34310\n",
            "init E= -76.1992802463868\n",
            "  HOMO = -0.465130664047594  LUMO = 0.0645919537322715\n",
            "cycle= 1 E= -76.2714427927966  delta_E= -0.0722  |g|= 0.596  |ddm|= 1.37\n",
            "  HOMO = -0.27193755870234  LUMO = 0.167238274662747\n",
            "cycle= 2 E= -76.2868412357146  delta_E= -0.0154  |g|= 0.543  |ddm|= 0.672\n",
            "  HOMO = -0.408962317384968  LUMO = 0.146614603457672\n",
            "cycle= 3 E= -76.3375823114872  delta_E= -0.0507  |g|= 0.0251  |ddm|= 0.326\n",
            "  HOMO = -0.40195836672679  LUMO = 0.152572976959684\n",
            "cycle= 4 E= -76.3376952816533  delta_E= -0.000113  |g|= 0.00394  |ddm|= 0.0129\n",
            "  HOMO = -0.402368108693182  LUMO = 0.152972411770845\n",
            "cycle= 5 E= -76.3377001881605  delta_E= -4.91e-06  |g|= 0.000432  |ddm|= 0.00423\n",
            "  HOMO = -0.402451551082219  LUMO = 0.152905257233878\n",
            "cycle= 6 E= -76.3377002301303  delta_E= -4.2e-08  |g|= 6.32e-05  |ddm|= 0.000326\n",
            "  HOMO = -0.40247204468307  LUMO = 0.152894690790626\n",
            "cycle= 7 E= -76.3377002312372  delta_E= -1.11e-09  |g|= 7.13e-06  |ddm|= 7.5e-05\n",
            "  HOMO = -0.402472337589761  LUMO = 0.152894389738042\n",
            "cycle= 8 E= -76.3377002312877  delta_E= -5.05e-11  |g|= 7.72e-07  |ddm|= 2.6e-05\n",
            "  HOMO = -0.402472461764996  LUMO = 0.152894387613965\n",
            "Extra cycle  E= -76.3377002312882  delta_E= -5.4e-13  |g|= 2.84e-07  |ddm|= 1.77e-06\n",
            "converged SCF energy = -76.3377002312882\n"
          ]
        }
      ]
    },
    {
      "cell_type": "markdown",
      "source": [
        "## Møller–Plesset perturbation theory\n",
        "\n",
        "TODO"
      ],
      "metadata": {
        "id": "O-bBre_Gu3s3"
      }
    },
    {
      "cell_type": "code",
      "source": [
        "mymp2 = mp.MP2(mymf).run()"
      ],
      "metadata": {
        "colab": {
          "base_uri": "https://localhost:8080/"
        },
        "id": "lVhXGgePd9_h",
        "outputId": "6288428d-49c3-486a-ab24-4fef73016228"
      },
      "execution_count": 7,
      "outputs": [
        {
          "output_type": "stream",
          "name": "stdout",
          "text": [
            "\n",
            "******** <class 'pyscf.mp.mp2.MP2'> ********\n",
            "nocc = 5, nmo = 24\n",
            "max_memory 4000 MB (current use 263 MB)\n",
            "E(MP2) = -76.1646134597338  E_corr = -0.20364346956817\n"
          ]
        }
      ]
    },
    {
      "cell_type": "markdown",
      "source": [
        "## Coupled Cluster\n",
        "\n",
        "TODO"
      ],
      "metadata": {
        "id": "Sj-BmeHBvAqO"
      }
    },
    {
      "cell_type": "code",
      "source": [
        "mycc = cc.CCSD(mymf).run()"
      ],
      "metadata": {
        "colab": {
          "base_uri": "https://localhost:8080/"
        },
        "id": "HvAFoYHelkba",
        "outputId": "f58d7d80-8b7c-43ad-faa6-adf3e0191e6c"
      },
      "execution_count": 8,
      "outputs": [
        {
          "output_type": "stream",
          "name": "stdout",
          "text": [
            "\n",
            "******** <class 'pyscf.cc.ccsd.CCSD'> ********\n",
            "CC2 = 0\n",
            "CCSD nocc = 5, nmo = 24\n",
            "max_cycle = 50\n",
            "direct = 0\n",
            "conv_tol = 1e-07\n",
            "conv_tol_normt = 1e-05\n",
            "diis_space = 6\n",
            "diis_start_cycle = 0\n",
            "diis_start_energy_diff = 1e+09\n",
            "max_memory 4000 MB (current use 263 MB)\n",
            "Init t2, MP2 energy = -76.1646134738225  E_corr(MP2) -0.203643483656848\n",
            "Init E_corr(CCSD) = -0.203643483658391\n",
            "cycle = 1  E_corr(CCSD) = -0.208598554996107  dE = -0.00495507134  norm(t1,t2) = 0.021702\n",
            "cycle = 2  E_corr(CCSD) = -0.211811484967462  dE = -0.00321292997  norm(t1,t2) = 0.007521\n",
            "cycle = 3  E_corr(CCSD) = -0.21285931356674  dE = -0.0010478286  norm(t1,t2) = 0.00285612\n",
            "cycle = 4  E_corr(CCSD) = -0.2130091882508  dE = -0.000149874684  norm(t1,t2) = 0.000557348\n",
            "cycle = 5  E_corr(CCSD) = -0.212993867867437  dE = 1.53203834e-05  norm(t1,t2) = 0.00018018\n",
            "cycle = 6  E_corr(CCSD) = -0.212989712090878  dE = 4.15577656e-06  norm(t1,t2) = 5.09528e-05\n",
            "cycle = 7  E_corr(CCSD) = -0.212991217881787  dE = -1.50579091e-06  norm(t1,t2) = 1.67188e-05\n",
            "cycle = 8  E_corr(CCSD) = -0.212990719254427  dE = 4.9862736e-07  norm(t1,t2) = 3.18594e-06\n",
            "cycle = 9  E_corr(CCSD) = -0.212990671772975  dE = 4.74814517e-08  norm(t1,t2) = 8.78867e-07\n",
            "CCSD converged\n",
            "E(CCSD) = -76.17396066193864  E_corr = -0.2129906717729754\n"
          ]
        }
      ]
    },
    {
      "cell_type": "code",
      "source": [
        "e_ccsd_t = mycc.ccsd_t()"
      ],
      "metadata": {
        "colab": {
          "base_uri": "https://localhost:8080/"
        },
        "id": "p6JxvG9GlqIG",
        "outputId": "33f21203-5299-45ae-b38b-29d1661b1ae9"
      },
      "execution_count": 9,
      "outputs": [
        {
          "output_type": "stream",
          "name": "stdout",
          "text": [
            "CCSD(T) correction = -0.003009509969022\n"
          ]
        }
      ]
    },
    {
      "cell_type": "markdown",
      "source": [
        "# Analysis\n",
        "\n",
        "* TODO"
      ],
      "metadata": {
        "id": "Vy-Lsd4OvFte"
      }
    },
    {
      "cell_type": "code",
      "source": [
        "# Collect data\n",
        "methods = [\"HF\", \"DFT\", \"MP2\", \"CCSD\", \"CCSD(T)\"]\n",
        "energies = [mymf.e_tot, myrks.e_tot, mymp2.e_tot, mycc.e_tot, mycc.e_tot + e_ccsd_t]\n",
        "\n",
        "# Plotting\n",
        "fig = px.line(x=methods, y=energies, title=\"Jacob's Ladder\", markers=True)\n",
        "fig.update_layout(xaxis_title=\"Method\", yaxis_title=\"Energy (Ha)\")\n",
        "fig.update_traces(marker_size=12)\n",
        "fig.show() # It's interactive!"
      ],
      "metadata": {
        "colab": {
          "base_uri": "https://localhost:8080/",
          "height": 542
        },
        "id": "OogwVn88n028",
        "outputId": "4c642e69-6d55-4baf-9274-4cfab7aa701b"
      },
      "execution_count": 22,
      "outputs": [
        {
          "output_type": "display_data",
          "data": {
            "text/html": [
              "<html>\n",
              "<head><meta charset=\"utf-8\" /></head>\n",
              "<body>\n",
              "    <div>            <script src=\"https://cdnjs.cloudflare.com/ajax/libs/mathjax/2.7.5/MathJax.js?config=TeX-AMS-MML_SVG\"></script><script type=\"text/javascript\">if (window.MathJax && window.MathJax.Hub && && window.MathJax.Hub.Config) {window.MathJax.Hub.Config({SVG: {font: \"STIX-Web\"}});}</script>                <script type=\"text/javascript\">window.PlotlyConfig = {MathJaxConfig: 'local'};</script>\n",
              "        <script src=\"https://cdn.plot.ly/plotly-2.12.1.min.js\"></script>                <div id=\"5cc63636-027c-4aee-825b-0b6d6e5cd719\" class=\"plotly-graph-div\" style=\"height:525px; width:100%;\"></div>            <script type=\"text/javascript\">                                    window.PLOTLYENV=window.PLOTLYENV || {};                                    if (document.getElementById(\"5cc63636-027c-4aee-825b-0b6d6e5cd719\")) {                    Plotly.newPlot(                        \"5cc63636-027c-4aee-825b-0b6d6e5cd719\",                        [{\"hovertemplate\":\"x=%{x}<br>y=%{y}<extra></extra>\",\"legendgroup\":\"\",\"line\":{\"color\":\"#636efa\",\"dash\":\"solid\"},\"marker\":{\"symbol\":\"circle\",\"size\":12},\"mode\":\"markers+lines\",\"name\":\"\",\"orientation\":\"v\",\"showlegend\":false,\"x\":[\"HF\",\"DFT\",\"MP2\",\"CCSD\",\"CCSD(T)\"],\"xaxis\":\"x\",\"y\":[-75.96096999016567,-76.33770023128824,-76.16461345973383,-76.17396066193864,-76.17697017190766],\"yaxis\":\"y\",\"type\":\"scatter\"}],                        {\"template\":{\"data\":{\"histogram2dcontour\":[{\"type\":\"histogram2dcontour\",\"colorbar\":{\"outlinewidth\":0,\"ticks\":\"\"},\"colorscale\":[[0.0,\"#0d0887\"],[0.1111111111111111,\"#46039f\"],[0.2222222222222222,\"#7201a8\"],[0.3333333333333333,\"#9c179e\"],[0.4444444444444444,\"#bd3786\"],[0.5555555555555556,\"#d8576b\"],[0.6666666666666666,\"#ed7953\"],[0.7777777777777778,\"#fb9f3a\"],[0.8888888888888888,\"#fdca26\"],[1.0,\"#f0f921\"]]}],\"choropleth\":[{\"type\":\"choropleth\",\"colorbar\":{\"outlinewidth\":0,\"ticks\":\"\"}}],\"histogram2d\":[{\"type\":\"histogram2d\",\"colorbar\":{\"outlinewidth\":0,\"ticks\":\"\"},\"colorscale\":[[0.0,\"#0d0887\"],[0.1111111111111111,\"#46039f\"],[0.2222222222222222,\"#7201a8\"],[0.3333333333333333,\"#9c179e\"],[0.4444444444444444,\"#bd3786\"],[0.5555555555555556,\"#d8576b\"],[0.6666666666666666,\"#ed7953\"],[0.7777777777777778,\"#fb9f3a\"],[0.8888888888888888,\"#fdca26\"],[1.0,\"#f0f921\"]]}],\"heatmap\":[{\"type\":\"heatmap\",\"colorbar\":{\"outlinewidth\":0,\"ticks\":\"\"},\"colorscale\":[[0.0,\"#0d0887\"],[0.1111111111111111,\"#46039f\"],[0.2222222222222222,\"#7201a8\"],[0.3333333333333333,\"#9c179e\"],[0.4444444444444444,\"#bd3786\"],[0.5555555555555556,\"#d8576b\"],[0.6666666666666666,\"#ed7953\"],[0.7777777777777778,\"#fb9f3a\"],[0.8888888888888888,\"#fdca26\"],[1.0,\"#f0f921\"]]}],\"heatmapgl\":[{\"type\":\"heatmapgl\",\"colorbar\":{\"outlinewidth\":0,\"ticks\":\"\"},\"colorscale\":[[0.0,\"#0d0887\"],[0.1111111111111111,\"#46039f\"],[0.2222222222222222,\"#7201a8\"],[0.3333333333333333,\"#9c179e\"],[0.4444444444444444,\"#bd3786\"],[0.5555555555555556,\"#d8576b\"],[0.6666666666666666,\"#ed7953\"],[0.7777777777777778,\"#fb9f3a\"],[0.8888888888888888,\"#fdca26\"],[1.0,\"#f0f921\"]]}],\"contourcarpet\":[{\"type\":\"contourcarpet\",\"colorbar\":{\"outlinewidth\":0,\"ticks\":\"\"}}],\"contour\":[{\"type\":\"contour\",\"colorbar\":{\"outlinewidth\":0,\"ticks\":\"\"},\"colorscale\":[[0.0,\"#0d0887\"],[0.1111111111111111,\"#46039f\"],[0.2222222222222222,\"#7201a8\"],[0.3333333333333333,\"#9c179e\"],[0.4444444444444444,\"#bd3786\"],[0.5555555555555556,\"#d8576b\"],[0.6666666666666666,\"#ed7953\"],[0.7777777777777778,\"#fb9f3a\"],[0.8888888888888888,\"#fdca26\"],[1.0,\"#f0f921\"]]}],\"surface\":[{\"type\":\"surface\",\"colorbar\":{\"outlinewidth\":0,\"ticks\":\"\"},\"colorscale\":[[0.0,\"#0d0887\"],[0.1111111111111111,\"#46039f\"],[0.2222222222222222,\"#7201a8\"],[0.3333333333333333,\"#9c179e\"],[0.4444444444444444,\"#bd3786\"],[0.5555555555555556,\"#d8576b\"],[0.6666666666666666,\"#ed7953\"],[0.7777777777777778,\"#fb9f3a\"],[0.8888888888888888,\"#fdca26\"],[1.0,\"#f0f921\"]]}],\"mesh3d\":[{\"type\":\"mesh3d\",\"colorbar\":{\"outlinewidth\":0,\"ticks\":\"\"}}],\"scatter\":[{\"fillpattern\":{\"fillmode\":\"overlay\",\"size\":10,\"solidity\":0.2},\"type\":\"scatter\"}],\"parcoords\":[{\"type\":\"parcoords\",\"line\":{\"colorbar\":{\"outlinewidth\":0,\"ticks\":\"\"}}}],\"scatterpolargl\":[{\"type\":\"scatterpolargl\",\"marker\":{\"colorbar\":{\"outlinewidth\":0,\"ticks\":\"\"}}}],\"bar\":[{\"error_x\":{\"color\":\"#2a3f5f\"},\"error_y\":{\"color\":\"#2a3f5f\"},\"marker\":{\"line\":{\"color\":\"#E5ECF6\",\"width\":0.5},\"pattern\":{\"fillmode\":\"overlay\",\"size\":10,\"solidity\":0.2}},\"type\":\"bar\"}],\"scattergeo\":[{\"type\":\"scattergeo\",\"marker\":{\"colorbar\":{\"outlinewidth\":0,\"ticks\":\"\"}}}],\"scatterpolar\":[{\"type\":\"scatterpolar\",\"marker\":{\"colorbar\":{\"outlinewidth\":0,\"ticks\":\"\"}}}],\"histogram\":[{\"marker\":{\"pattern\":{\"fillmode\":\"overlay\",\"size\":10,\"solidity\":0.2}},\"type\":\"histogram\"}],\"scattergl\":[{\"type\":\"scattergl\",\"marker\":{\"colorbar\":{\"outlinewidth\":0,\"ticks\":\"\"}}}],\"scatter3d\":[{\"type\":\"scatter3d\",\"line\":{\"colorbar\":{\"outlinewidth\":0,\"ticks\":\"\"}},\"marker\":{\"colorbar\":{\"outlinewidth\":0,\"ticks\":\"\"}}}],\"scattermapbox\":[{\"type\":\"scattermapbox\",\"marker\":{\"colorbar\":{\"outlinewidth\":0,\"ticks\":\"\"}}}],\"scatterternary\":[{\"type\":\"scatterternary\",\"marker\":{\"colorbar\":{\"outlinewidth\":0,\"ticks\":\"\"}}}],\"scattercarpet\":[{\"type\":\"scattercarpet\",\"marker\":{\"colorbar\":{\"outlinewidth\":0,\"ticks\":\"\"}}}],\"carpet\":[{\"aaxis\":{\"endlinecolor\":\"#2a3f5f\",\"gridcolor\":\"white\",\"linecolor\":\"white\",\"minorgridcolor\":\"white\",\"startlinecolor\":\"#2a3f5f\"},\"baxis\":{\"endlinecolor\":\"#2a3f5f\",\"gridcolor\":\"white\",\"linecolor\":\"white\",\"minorgridcolor\":\"white\",\"startlinecolor\":\"#2a3f5f\"},\"type\":\"carpet\"}],\"table\":[{\"cells\":{\"fill\":{\"color\":\"#EBF0F8\"},\"line\":{\"color\":\"white\"}},\"header\":{\"fill\":{\"color\":\"#C8D4E3\"},\"line\":{\"color\":\"white\"}},\"type\":\"table\"}],\"barpolar\":[{\"marker\":{\"line\":{\"color\":\"#E5ECF6\",\"width\":0.5},\"pattern\":{\"fillmode\":\"overlay\",\"size\":10,\"solidity\":0.2}},\"type\":\"barpolar\"}],\"pie\":[{\"automargin\":true,\"type\":\"pie\"}]},\"layout\":{\"autotypenumbers\":\"strict\",\"colorway\":[\"#636efa\",\"#EF553B\",\"#00cc96\",\"#ab63fa\",\"#FFA15A\",\"#19d3f3\",\"#FF6692\",\"#B6E880\",\"#FF97FF\",\"#FECB52\"],\"font\":{\"color\":\"#2a3f5f\"},\"hovermode\":\"closest\",\"hoverlabel\":{\"align\":\"left\"},\"paper_bgcolor\":\"white\",\"plot_bgcolor\":\"#E5ECF6\",\"polar\":{\"bgcolor\":\"#E5ECF6\",\"angularaxis\":{\"gridcolor\":\"white\",\"linecolor\":\"white\",\"ticks\":\"\"},\"radialaxis\":{\"gridcolor\":\"white\",\"linecolor\":\"white\",\"ticks\":\"\"}},\"ternary\":{\"bgcolor\":\"#E5ECF6\",\"aaxis\":{\"gridcolor\":\"white\",\"linecolor\":\"white\",\"ticks\":\"\"},\"baxis\":{\"gridcolor\":\"white\",\"linecolor\":\"white\",\"ticks\":\"\"},\"caxis\":{\"gridcolor\":\"white\",\"linecolor\":\"white\",\"ticks\":\"\"}},\"coloraxis\":{\"colorbar\":{\"outlinewidth\":0,\"ticks\":\"\"}},\"colorscale\":{\"sequential\":[[0.0,\"#0d0887\"],[0.1111111111111111,\"#46039f\"],[0.2222222222222222,\"#7201a8\"],[0.3333333333333333,\"#9c179e\"],[0.4444444444444444,\"#bd3786\"],[0.5555555555555556,\"#d8576b\"],[0.6666666666666666,\"#ed7953\"],[0.7777777777777778,\"#fb9f3a\"],[0.8888888888888888,\"#fdca26\"],[1.0,\"#f0f921\"]],\"sequentialminus\":[[0.0,\"#0d0887\"],[0.1111111111111111,\"#46039f\"],[0.2222222222222222,\"#7201a8\"],[0.3333333333333333,\"#9c179e\"],[0.4444444444444444,\"#bd3786\"],[0.5555555555555556,\"#d8576b\"],[0.6666666666666666,\"#ed7953\"],[0.7777777777777778,\"#fb9f3a\"],[0.8888888888888888,\"#fdca26\"],[1.0,\"#f0f921\"]],\"diverging\":[[0,\"#8e0152\"],[0.1,\"#c51b7d\"],[0.2,\"#de77ae\"],[0.3,\"#f1b6da\"],[0.4,\"#fde0ef\"],[0.5,\"#f7f7f7\"],[0.6,\"#e6f5d0\"],[0.7,\"#b8e186\"],[0.8,\"#7fbc41\"],[0.9,\"#4d9221\"],[1,\"#276419\"]]},\"xaxis\":{\"gridcolor\":\"white\",\"linecolor\":\"white\",\"ticks\":\"\",\"title\":{\"standoff\":15},\"zerolinecolor\":\"white\",\"automargin\":true,\"zerolinewidth\":2},\"yaxis\":{\"gridcolor\":\"white\",\"linecolor\":\"white\",\"ticks\":\"\",\"title\":{\"standoff\":15},\"zerolinecolor\":\"white\",\"automargin\":true,\"zerolinewidth\":2},\"scene\":{\"xaxis\":{\"backgroundcolor\":\"#E5ECF6\",\"gridcolor\":\"white\",\"linecolor\":\"white\",\"showbackground\":true,\"ticks\":\"\",\"zerolinecolor\":\"white\",\"gridwidth\":2},\"yaxis\":{\"backgroundcolor\":\"#E5ECF6\",\"gridcolor\":\"white\",\"linecolor\":\"white\",\"showbackground\":true,\"ticks\":\"\",\"zerolinecolor\":\"white\",\"gridwidth\":2},\"zaxis\":{\"backgroundcolor\":\"#E5ECF6\",\"gridcolor\":\"white\",\"linecolor\":\"white\",\"showbackground\":true,\"ticks\":\"\",\"zerolinecolor\":\"white\",\"gridwidth\":2}},\"shapedefaults\":{\"line\":{\"color\":\"#2a3f5f\"}},\"annotationdefaults\":{\"arrowcolor\":\"#2a3f5f\",\"arrowhead\":0,\"arrowwidth\":1},\"geo\":{\"bgcolor\":\"white\",\"landcolor\":\"#E5ECF6\",\"subunitcolor\":\"white\",\"showland\":true,\"showlakes\":true,\"lakecolor\":\"white\"},\"title\":{\"x\":0.05},\"mapbox\":{\"style\":\"light\"}}},\"xaxis\":{\"anchor\":\"y\",\"domain\":[0.0,1.0],\"title\":{\"text\":\"Method\"}},\"yaxis\":{\"anchor\":\"x\",\"domain\":[0.0,1.0],\"title\":{\"text\":\"Energy (Ha)\"}},\"legend\":{\"tracegroupgap\":0},\"title\":{\"text\":\"Jacob's Ladder\"}},                        {\"responsive\": true}                    ).then(function(){\n",
              "                            \n",
              "var gd = document.getElementById('5cc63636-027c-4aee-825b-0b6d6e5cd719');\n",
              "var x = new MutationObserver(function (mutations, observer) {{\n",
              "        var display = window.getComputedStyle(gd).display;\n",
              "        if (!display || display === 'none') {{\n",
              "            console.log([gd, 'removed!']);\n",
              "            Plotly.purge(gd);\n",
              "            observer.disconnect();\n",
              "        }}\n",
              "}});\n",
              "\n",
              "// Listen for the removal of the full notebook cells\n",
              "var notebookContainer = gd.closest('#notebook-container');\n",
              "if (notebookContainer) {{\n",
              "    x.observe(notebookContainer, {childList: true});\n",
              "}}\n",
              "\n",
              "// Listen for the clearing of the current output cell\n",
              "var outputEl = gd.closest('.output');\n",
              "if (outputEl) {{\n",
              "    x.observe(outputEl, {childList: true});\n",
              "}}\n",
              "\n",
              "                        })                };                            </script>        </div>\n",
              "</body>\n",
              "</html>"
            ]
          },
          "metadata": {}
        }
      ]
    },
    {
      "cell_type": "code",
      "source": [
        ""
      ],
      "metadata": {
        "id": "5ZE4PasEn5Q4"
      },
      "execution_count": 10,
      "outputs": []
    }
  ]
}