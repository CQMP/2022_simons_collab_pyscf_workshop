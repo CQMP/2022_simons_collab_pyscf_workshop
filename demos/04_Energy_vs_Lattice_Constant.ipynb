{
 "cells": [
  {
   "cell_type": "markdown",
   "metadata": {
    "colab_type": "text",
    "id": "view-in-github"
   },
   "source": [
    "<a href=\"https://colab.research.google.com/github/jamesETsmith/2022_simons_collab_pyscf_workshop/blob/main/demos/04_Energy_vs_Lattice_Constant.ipynb\" target=\"_parent\"><img src=\"https://colab.research.google.com/assets/colab-badge.svg\" alt=\"Open In Colab\"/></a>"
   ]
  },
  {
   "cell_type": "markdown",
   "metadata": {
    "id": "uXKlBtGW8MbM"
   },
   "source": [
    "# Setting up the Jupyter notebook\n",
    "\n",
    "* We need to install a few things before we get started\n",
    "  * [PySCF](https://pyscf.org/) for the quantum chemsitry\n",
    "  * [NumPy](https://numpy.org/) for manipulating arrays\n",
    "  * [pandas](https://pandas.pydata.org/) for manipulating table data\n",
    "  * [plotly](https://plotly.com/python/) for plotting\n",
    "  * [SciPy](https://scipy.org/) for curve fitting"
   ]
  },
  {
   "cell_type": "code",
   "execution_count": null,
   "metadata": {
    "id": "y6cW-_rR8KbR"
   },
   "outputs": [],
   "source": [
    "%pip install -q numpy pyscf plotly==5.8.0 scipy pandas"
   ]
  },
  {
   "cell_type": "markdown",
   "metadata": {},
   "source": [
    "# Structural Properties of Materials\n",
    "\n",
    "Here, we investigate structural properties of solid Si, in particular the equilibrium lattice parameter, bulk modulus and cohesive energy.\n",
    "\n",
    "We run our calculations at various lattice parameters. Then we plot the energy vs volume per atom curve and fit the Birch-Murnaghan equation which gives us these properties, e.g. see https://en.wikipedia.org/wiki/Birch%E2%80%93Murnaghan_equation_of_state . "
   ]
  },
  {
   "cell_type": "code",
   "execution_count": null,
   "metadata": {},
   "outputs": [],
   "source": [
    "import numpy as np\n",
    "import pandas as pd\n",
    "import plotly.express\n",
    "import plotly.graph_objects\n",
    "from scipy.optimize import curve_fit\n",
    "from pyscf.pbc import gto, scf # note the pyscf.pbc for solid calculations"
   ]
  },
  {
   "cell_type": "markdown",
   "metadata": {},
   "source": [
    "## Calculations of FCC Si at various lattice parameters\n",
    "We use the calculation set-up from the last notebook, using FCC Si in a gth-dzvp basis, at a 333 **k** point mesh, with DFT LDA. Note that this is not enough for production calculations as the basis set, finite size and methods errors have not eliminated here."
   ]
  },
  {
   "cell_type": "code",
   "execution_count": null,
   "metadata": {},
   "outputs": [],
   "source": [
    "def get_fcc_si_cell(latt_param):\n",
    "    # Setting up primitive face centered cubic (FCC) cell\n",
    "    cell_lattice = 0.5*latt_param*np.asarray([[1.0, 0.0, 1.0],\n",
    "                                              [1.0, 1.0, 0.0],\n",
    "                                              [0.0, 1.0, 1.0]])\n",
    "    qlp = latt_param*0.25\n",
    "    cell_xyz = f\"\"\"Si        0.00000    0.00000   0.00000\n",
    "                   Si        {qlp}      {qlp}     {qlp}\"\"\"\n",
    "    cell = gto.Cell(a=cell_lattice, atom=cell_xyz, basis=\"gth-dzvp\", pseudo=\"gth-pade\", verbose=2)\n",
    "    cell.build()\n",
    "    return cell"
   ]
  },
  {
   "cell_type": "code",
   "execution_count": null,
   "metadata": {},
   "outputs": [],
   "source": [
    "lda_es = []\n",
    "k = 3 # Using a 333 k point mesh.\n",
    "n = 9 # 9 data points\n",
    "latt_params = [np.round(5.56 - (n//2)*0.01 + 0.01*i,2) for i in range(n)]\n",
    "for latt_param in latt_params:\n",
    "    cell = get_fcc_si_cell(latt_param)\n",
    "    mykmf = scf.KRKS(cell, cell.make_kpts([k,k,k]), xc=\"lda\").run()\n",
    "    lda_es.append(mykmf.e_tot)\n",
    "    print(latt_param, mykmf.e_tot)\n",
    "print(\"done!\")"
   ]
  },
  {
   "cell_type": "markdown",
   "metadata": {},
   "source": [
    "## Plotting and Fitting"
   ]
  },
  {
   "cell_type": "code",
   "execution_count": null,
   "metadata": {},
   "outputs": [],
   "source": [
    "# Collect data\n",
    "# Volume per Si atom. This is latt_params^3/4, as there are four Si atoms in a cubic unit cell of sides latt_param.\n",
    "v_si = [latt_param**3/4.0 for latt_param in latt_params] \n",
    "energies_si = np.asarray(lda_es)/2.0 # Energy per Si atom. There were two Si atoms in our primitive unit cell.\n",
    "\n",
    "# Plotting\n",
    "fig = plotly.express.line(x=v_si, y=energies_si, title=\"Binding Curve\", markers=True)\n",
    "fig.update_layout(xaxis_title=\"Volume per Si/Ang^3\", yaxis_title=\"Energy per Si/ha\")\n",
    "fig.update_traces(marker_size=12)\n",
    "#fig.update_xaxes(range=[0.0, 1.01])\n",
    "fig.show() # It's interactive!"
   ]
  },
  {
   "cell_type": "markdown",
   "metadata": {},
   "source": [
    "Looks like the minimum is close to our middle data point, at 5.56 ang. Now, we fit the Birch-Murnaghan equation."
   ]
  },
  {
   "cell_type": "code",
   "execution_count": null,
   "metadata": {},
   "outputs": [],
   "source": [
    "def birch_murnaghan_fit(x, e, v, b, bdash):\n",
    "    return (e + (9.0/16.0)*v*b*((((v/x)**(2.0/3.0) - 1.0)**3)*bdash +\n",
    "                                (((v/x)**(2.0/3.0) - 1.0)**2)*(6.0 - 4.0*((v/x)**(2.0/3.0)))))"
   ]
  },
  {
   "cell_type": "code",
   "execution_count": null,
   "metadata": {},
   "outputs": [],
   "source": [
    "init_guess = [energies_si[n//2], v_si[n//2], 1, 1]\n",
    "opt_params, _ = curve_fit(birch_murnaghan_fit, v_si, energies_si, p0=init_guess)\n",
    "print(\"Min energy per Si\", np.round(opt_params[0],5), \"ha\")\n",
    "print(\"Equilibrium volume per Si\", np.round(opt_params[1],5), \"ang^3, which is at lattice parameter\",\n",
    "      np.round((4.0*opt_params[1])**(1.0/3.0),3), \"ang.\")\n",
    "# See https://en.wikipedia.org/wiki/Hartree for unit convertion (ha to J, and then J/ang to Pa)\n",
    "print(\"Bulk Modulus is\", np.round(opt_params[2],5), \"ha/ang^3, which is\", np.round(opt_params[2]*4.3597447*10**3,2), \"GPa\")"
   ]
  },
  {
   "cell_type": "markdown",
   "metadata": {},
   "source": [
    "The first parameter is the energy (which is not meaningful) at the minimum which is given as -3.76349 ha by the fit. \n",
    "The equilibrium lattice parameter is at 5.56 ang, consistent with our previous observation.\n",
    "The bulk modulus is about 39 GPa."
   ]
  },
  {
   "cell_type": "code",
   "execution_count": null,
   "metadata": {},
   "outputs": [],
   "source": [
    "# Now let's plot the fit, too\n",
    "v_ctd = [42 + 0.001*i for i in range(2000)]\n",
    "fig2 = plotly.graph_objects.Figure()\n",
    "fig2.add_trace(plotly.graph_objects.Scatter(x=v_si, y=energies_si, name=\"LDA Data\", mode='markers'))\n",
    "fig2.add_trace(plotly.graph_objects.Scatter(x=v_ctd, y=[birch_murnaghan_fit(v, *opt_params) for v in v_ctd], name=\"Fit\", mode='lines'))\n",
    "fig2.update_layout(xaxis_title=\"Volume per Si/Ang^3\", yaxis_title=\"Energy per Si/ha\")\n",
    "fig2.update_traces(marker_size=12)\n",
    "fig2.show() # It's interactive!"
   ]
  },
  {
   "cell_type": "markdown",
   "metadata": {},
   "source": [
    "## Including single atom energies\n",
    "\n",
    "To improve the equilibrium lattice parameter and bulk modulus estimates, and to estimate the cohesive energy, we need to evaluate the energy of a single Si atom.\n",
    "\n",
    "The cohesive energy is evaluated as the energy difference of the energy an Si atom has in the solid and the energy it has surrounded by no other atom.\n",
    "\n",
    "For the single atom energy, we remove the other atoms but keep their basis functions at the positions they were. We also use the same pseudopotential. This helps correct the basis set superposition error."
   ]
  },
  {
   "cell_type": "code",
   "execution_count": null,
   "metadata": {},
   "outputs": [],
   "source": [
    "# This dictionary gives (not quite converged) single Si atom energies.\n",
    "single_energies_si = {\"latt_param\": [5.52, 5.53, 5.54, 5.55, 5.56, 5.57, 5.58, 5.59, 5.6],\n",
    "                      \"E_LDA_s\": [-3.622921557772764, -3.62292196154122, -3.622922391188982, -3.6229232993272307,\n",
    "                                  -3.622924186113336, -3.6229249777570565, -3.6229255226694903, -3.622926871590588,\n",
    "                                  -3.622926286317038]}\n",
    "single_energies = pd.DataFrame(single_energies_si)\n",
    "single_energies"
   ]
  },
  {
   "cell_type": "code",
   "execution_count": null,
   "metadata": {},
   "outputs": [],
   "source": [
    "# Converting previous bulk data into a DataFrame and merging with new DataFrame\n",
    "bulk_energies = pd.DataFrame({\"latt_param\": latt_params, \"E_LDA_b\": energies_si})\n",
    "bulk_energies = bulk_energies.merge(single_energies, on=\"latt_param\") # this makes sure we are not misaligning lattice parameters\n",
    "bulk_energies[\"E_LDA_diff\"] = bulk_energies[\"E_LDA_b\"] - bulk_energies[\"E_LDA_s\"]\n",
    "bulk_energies"
   ]
  },
  {
   "cell_type": "code",
   "execution_count": null,
   "metadata": {},
   "outputs": [],
   "source": [
    "# Now fitting to \"E_LDA_diff\", whose minimum is the cohesive energy estimate.\n",
    "init_guess = [bulk_energies[\"E_LDA_diff\"].iloc[n//2], v_si[n//2], 1, 1]\n",
    "opt_params, _ = curve_fit(birch_murnaghan_fit, v_si, bulk_energies[\"E_LDA_diff\"], p0=init_guess)\n",
    "print(\"Min energy per Si\", np.round(opt_params[0],5), \"ha\")\n",
    "print(\"Equilibrium volume per Si\", np.round(opt_params[1],5), \"ang^3, which is at lattice parameter\",\n",
    "      np.round((4.0*opt_params[1])**(1.0/3.0),3), \"ang.\")\n",
    "# See https://en.wikipedia.org/wiki/Hartree for unit convertion (ha to J, and then J/ang to Pa)\n",
    "print(\"Bulk Modulus is\", np.round(opt_params[2],5), \"ha/ang^3, which is\", np.round(opt_params[2]*4.3597447*10**3,2), \"GPa\")"
   ]
  },
  {
   "cell_type": "markdown",
   "metadata": {},
   "source": [
    "The bulk modulus and equilibrium lattice parameter have not been affected by much (but might be in other cases). The cohesive energy estimate is -0.1406 ha.\n",
    "\n",
    "Note that this was all at zero temperature. Temperature effects have been ignored."
   ]
  },
  {
   "cell_type": "code",
   "execution_count": null,
   "metadata": {},
   "outputs": [],
   "source": []
  }
 ],
 "metadata": {
  "colab": {
   "authorship_tag": "ABX9TyMswzgwoZGlgPc1aNi3Advd",
   "include_colab_link": true,
   "name": "04_Energy_vs_Lattice_Constant.ipynb",
   "provenance": []
  },
  "kernelspec": {
   "display_name": "Python 3 (ipykernel)",
   "language": "python",
   "name": "python3"
  },
  "language_info": {
   "codemirror_mode": {
    "name": "ipython",
    "version": 3
   },
   "file_extension": ".py",
   "mimetype": "text/x-python",
   "name": "python",
   "nbconvert_exporter": "python",
   "pygments_lexer": "ipython3",
   "version": "3.9.2"
  }
 },
 "nbformat": 4,
 "nbformat_minor": 1
}
